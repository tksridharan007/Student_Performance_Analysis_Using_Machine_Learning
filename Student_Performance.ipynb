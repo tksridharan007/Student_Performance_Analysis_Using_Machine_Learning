{
 "cells": [
  {
   "cell_type": "markdown",
   "metadata": {
    "id": "N79L5TlfhH-Z"
   },
   "source": [
    "# Student Performance "
   ]
  },
  {
   "cell_type": "code",
   "execution_count": 1,
   "metadata": {
    "id": "uG5NzMLAgG1l"
   },
   "outputs": [],
   "source": [
    "# Importing the necessary packages\n",
    "import numpy as np\n",
    "import pandas as pd\n",
    "import seaborn as sn\n",
    "import matplotlib.pyplot as plt\n",
    "import warnings\n",
    "warnings.filterwarnings(\"ignore\")"
   ]
  },
  {
   "cell_type": "code",
   "execution_count": 2,
   "metadata": {
    "id": "nLNBR9nVhU46"
   },
   "outputs": [],
   "source": [
    "# Reading the dataset\n",
    "data=pd.read_csv('C:/Users/New/Downloads/Final Projects/Student_Performance_Analysis/studentdata.csv')"
   ]
  },
  {
   "cell_type": "code",
   "execution_count": 3,
   "metadata": {
    "colab": {
     "base_uri": "https://localhost:8080/",
     "height": 600
    },
    "id": "Ia3FrZf3hdjw",
    "outputId": "4f834b17-ef3b-4f0c-bb8b-f3d3f87f678e"
   },
   "outputs": [
    {
     "data": {
      "text/html": [
       "<div>\n",
       "<style scoped>\n",
       "    .dataframe tbody tr th:only-of-type {\n",
       "        vertical-align: middle;\n",
       "    }\n",
       "\n",
       "    .dataframe tbody tr th {\n",
       "        vertical-align: top;\n",
       "    }\n",
       "\n",
       "    .dataframe thead th {\n",
       "        text-align: right;\n",
       "    }\n",
       "</style>\n",
       "<table border=\"1\" class=\"dataframe\">\n",
       "  <thead>\n",
       "    <tr style=\"text-align: right;\">\n",
       "      <th></th>\n",
       "      <th>Roll number</th>\n",
       "      <th>Name</th>\n",
       "      <th>Department</th>\n",
       "      <th>Gender</th>\n",
       "      <th>Age</th>\n",
       "      <th>sem4_marks</th>\n",
       "      <th>sem3_marks</th>\n",
       "      <th>sem2_marks</th>\n",
       "      <th>sem1_marks</th>\n",
       "      <th>Which device you use more frequently</th>\n",
       "      <th>Online mode is better then Offline</th>\n",
       "      <th>Online makes you lazy</th>\n",
       "      <th>Use Electronic device for long time make tension</th>\n",
       "      <th>Online mode is preferable for Scoring good marks in exam</th>\n",
       "      <th>Work is more in online than offline</th>\n",
       "      <th>To motivate student offline mode is preferrable</th>\n",
       "      <th>Exam in online has both advantages and dis advantages</th>\n",
       "    </tr>\n",
       "  </thead>\n",
       "  <tbody>\n",
       "    <tr>\n",
       "      <th>0</th>\n",
       "      <td>2032001</td>\n",
       "      <td>AJAY NARAYAN   P</td>\n",
       "      <td>SS</td>\n",
       "      <td>Male</td>\n",
       "      <td>19</td>\n",
       "      <td>8.70</td>\n",
       "      <td>7.90</td>\n",
       "      <td>9.10</td>\n",
       "      <td>8.90</td>\n",
       "      <td>Laptop</td>\n",
       "      <td>Agree</td>\n",
       "      <td>Agree</td>\n",
       "      <td>Uncertain</td>\n",
       "      <td>Strongly Agree</td>\n",
       "      <td>Disagree</td>\n",
       "      <td>Agree</td>\n",
       "      <td>Strongly Disagree</td>\n",
       "    </tr>\n",
       "    <tr>\n",
       "      <th>1</th>\n",
       "      <td>2032002</td>\n",
       "      <td>AMAN   M</td>\n",
       "      <td>SS</td>\n",
       "      <td>Male</td>\n",
       "      <td>19</td>\n",
       "      <td>7.58</td>\n",
       "      <td>7.70</td>\n",
       "      <td>9.09</td>\n",
       "      <td>8.73</td>\n",
       "      <td>Laptop</td>\n",
       "      <td>Agree</td>\n",
       "      <td>Agree</td>\n",
       "      <td>Strongly Disagree</td>\n",
       "      <td>Agree</td>\n",
       "      <td>Agree</td>\n",
       "      <td>Agree</td>\n",
       "      <td>Agree</td>\n",
       "    </tr>\n",
       "    <tr>\n",
       "      <th>2</th>\n",
       "      <td>2032003</td>\n",
       "      <td>ASMA KHATUN   P</td>\n",
       "      <td>SS</td>\n",
       "      <td>Female</td>\n",
       "      <td>20</td>\n",
       "      <td>8.75</td>\n",
       "      <td>8.57</td>\n",
       "      <td>9.55</td>\n",
       "      <td>9.50</td>\n",
       "      <td>Laptop</td>\n",
       "      <td>Strongly Agree</td>\n",
       "      <td>Agree</td>\n",
       "      <td>Agree</td>\n",
       "      <td>Strongly Agree</td>\n",
       "      <td>Uncertain</td>\n",
       "      <td>Agree</td>\n",
       "      <td>Uncertain</td>\n",
       "    </tr>\n",
       "    <tr>\n",
       "      <th>3</th>\n",
       "      <td>2032004</td>\n",
       "      <td>DINESH KUMAR   P</td>\n",
       "      <td>SS</td>\n",
       "      <td>Male</td>\n",
       "      <td>20</td>\n",
       "      <td>8.38</td>\n",
       "      <td>8.45</td>\n",
       "      <td>8.57</td>\n",
       "      <td>8.77</td>\n",
       "      <td>Phone</td>\n",
       "      <td>Strongly Agree</td>\n",
       "      <td>Strongly Agree</td>\n",
       "      <td>Strongly Agree</td>\n",
       "      <td>Strongly Agree</td>\n",
       "      <td>Strongly Agree</td>\n",
       "      <td>Strongly Agree</td>\n",
       "      <td>Strongly Agree</td>\n",
       "    </tr>\n",
       "    <tr>\n",
       "      <th>4</th>\n",
       "      <td>2032005</td>\n",
       "      <td>DIVYA   I</td>\n",
       "      <td>SS</td>\n",
       "      <td>Female</td>\n",
       "      <td>19</td>\n",
       "      <td>8.08</td>\n",
       "      <td>8.48</td>\n",
       "      <td>8.77</td>\n",
       "      <td>8.64</td>\n",
       "      <td>Laptop</td>\n",
       "      <td>Agree</td>\n",
       "      <td>Agree</td>\n",
       "      <td>Agree</td>\n",
       "      <td>Uncertain</td>\n",
       "      <td>Uncertain</td>\n",
       "      <td>Agree</td>\n",
       "      <td>Uncertain</td>\n",
       "    </tr>\n",
       "  </tbody>\n",
       "</table>\n",
       "</div>"
      ],
      "text/plain": [
       "   Roll number              Name Department  Gender  Age  sem4_marks   \\\n",
       "0      2032001  AJAY NARAYAN   P         SS    Male   19         8.70   \n",
       "1      2032002          AMAN   M         SS    Male   19         7.58   \n",
       "2      2032003   ASMA KHATUN   P         SS  Female   20         8.75   \n",
       "3      2032004  DINESH KUMAR   P         SS    Male   20         8.38   \n",
       "4      2032005         DIVYA   I         SS  Female   19         8.08   \n",
       "\n",
       "   sem3_marks   sem2_marks   sem1_marks  Which device you use more frequently  \\\n",
       "0         7.90         9.10         8.90                               Laptop   \n",
       "1         7.70         9.09         8.73                               Laptop   \n",
       "2         8.57         9.55         9.50                               Laptop   \n",
       "3         8.45         8.57         8.77                                Phone   \n",
       "4         8.48         8.77         8.64                               Laptop   \n",
       "\n",
       "  Online mode is better then Offline Online makes you lazy  \\\n",
       "0                              Agree                 Agree   \n",
       "1                              Agree                 Agree   \n",
       "2                     Strongly Agree                 Agree   \n",
       "3                     Strongly Agree        Strongly Agree   \n",
       "4                              Agree                 Agree   \n",
       "\n",
       "  Use Electronic device for long time make tension  \\\n",
       "0                                        Uncertain   \n",
       "1                                Strongly Disagree   \n",
       "2                                            Agree   \n",
       "3                                   Strongly Agree   \n",
       "4                                            Agree   \n",
       "\n",
       "  Online mode is preferable for Scoring good marks in exam   \\\n",
       "0                                     Strongly Agree          \n",
       "1                                              Agree          \n",
       "2                                     Strongly Agree          \n",
       "3                                     Strongly Agree          \n",
       "4                                          Uncertain          \n",
       "\n",
       "  Work is more in online than offline  \\\n",
       "0                            Disagree   \n",
       "1                               Agree   \n",
       "2                           Uncertain   \n",
       "3                      Strongly Agree   \n",
       "4                           Uncertain   \n",
       "\n",
       "  To motivate student offline mode is preferrable  \\\n",
       "0                                           Agree   \n",
       "1                                           Agree   \n",
       "2                                           Agree   \n",
       "3                                  Strongly Agree   \n",
       "4                                           Agree   \n",
       "\n",
       "  Exam in online has both advantages and dis advantages  \n",
       "0                                  Strongly Disagree     \n",
       "1                                              Agree     \n",
       "2                                          Uncertain     \n",
       "3                                     Strongly Agree     \n",
       "4                                          Uncertain     "
      ]
     },
     "execution_count": 3,
     "metadata": {},
     "output_type": "execute_result"
    }
   ],
   "source": [
    "data.head()"
   ]
  },
  {
   "cell_type": "markdown",
   "metadata": {
    "id": "b1LKfPTBh6tl"
   },
   "source": [
    "# Pre-Processing"
   ]
  },
  {
   "cell_type": "code",
   "execution_count": 4,
   "metadata": {
    "colab": {
     "base_uri": "https://localhost:8080/"
    },
    "id": "XuBc9sUqhlKX",
    "outputId": "df0801b6-8878-4844-ee2c-dd6f57580046"
   },
   "outputs": [
    {
     "data": {
      "text/plain": [
       "Roll number                                                  0\n",
       "Name                                                         0\n",
       "Department                                                   0\n",
       "Gender                                                       0\n",
       "Age                                                          0\n",
       "sem4_marks                                                   0\n",
       "sem3_marks                                                   0\n",
       "sem2_marks                                                   0\n",
       "sem1_marks                                                   0\n",
       "Which device you use more frequently                         0\n",
       "Online mode is better then Offline                           0\n",
       "Online makes you lazy                                        0\n",
       "Use Electronic device for long time make tension             0\n",
       "Online mode is preferable for Scoring good marks in exam     0\n",
       "Work is more in online than offline                          0\n",
       "To motivate student offline mode is preferrable              0\n",
       "Exam in online has both advantages and dis advantages        0\n",
       "dtype: int64"
      ]
     },
     "execution_count": 4,
     "metadata": {},
     "output_type": "execute_result"
    }
   ],
   "source": [
    "#Checking of Missing Values\n",
    "data.isnull().sum() "
   ]
  },
  {
   "cell_type": "code",
   "execution_count": 5,
   "metadata": {
    "colab": {
     "base_uri": "https://localhost:8080/"
    },
    "id": "MrsE-kFRE7vt",
    "outputId": "16ac451d-8524-4a0d-f399-46d7550adb45"
   },
   "outputs": [
    {
     "data": {
      "text/plain": [
       "Index(['Roll number', 'Name', 'Department', 'Gender', 'Age', 'sem4_marks ',\n",
       "       'sem3_marks ', 'sem2_marks ', 'sem1_marks ',\n",
       "       'Which device you use more frequently',\n",
       "       'Online mode is better then Offline', 'Online makes you lazy',\n",
       "       'Use Electronic device for long time make tension',\n",
       "       'Online mode is preferable for Scoring good marks in exam ',\n",
       "       'Work is more in online than offline',\n",
       "       'To motivate student offline mode is preferrable',\n",
       "       'Exam in online has both advantages and dis advantages'],\n",
       "      dtype='object')"
      ]
     },
     "execution_count": 5,
     "metadata": {},
     "output_type": "execute_result"
    }
   ],
   "source": [
    "data.columns"
   ]
  },
  {
   "cell_type": "markdown",
   "metadata": {
    "id": "DD-DYxF3iEvL"
   },
   "source": [
    "No Missing Values"
   ]
  },
  {
   "cell_type": "code",
   "execution_count": 6,
   "metadata": {
    "colab": {
     "base_uri": "https://localhost:8080/",
     "height": 600
    },
    "id": "hPTyaQp0h_1W",
    "outputId": "c9a93f6c-fc74-4f01-9d5a-74dfb7c6abb2"
   },
   "outputs": [
    {
     "data": {
      "text/html": [
       "<div>\n",
       "<style scoped>\n",
       "    .dataframe tbody tr th:only-of-type {\n",
       "        vertical-align: middle;\n",
       "    }\n",
       "\n",
       "    .dataframe tbody tr th {\n",
       "        vertical-align: top;\n",
       "    }\n",
       "\n",
       "    .dataframe thead th {\n",
       "        text-align: right;\n",
       "    }\n",
       "</style>\n",
       "<table border=\"1\" class=\"dataframe\">\n",
       "  <thead>\n",
       "    <tr style=\"text-align: right;\">\n",
       "      <th></th>\n",
       "      <th>Roll number</th>\n",
       "      <th>Name</th>\n",
       "      <th>Department</th>\n",
       "      <th>Gender</th>\n",
       "      <th>Age</th>\n",
       "      <th>sem4_marks</th>\n",
       "      <th>sem3_marks</th>\n",
       "      <th>sem2_marks</th>\n",
       "      <th>sem1_marks</th>\n",
       "      <th>Which device you use more frequently</th>\n",
       "      <th>Online mode is better then Offline</th>\n",
       "      <th>Online makes you lazy</th>\n",
       "      <th>Use Electronic device for long time make tension</th>\n",
       "      <th>Online mode is preferable for Scoring good marks in exam</th>\n",
       "      <th>Work is more in online than offline</th>\n",
       "      <th>To motivate student offline mode is preferrable</th>\n",
       "      <th>Exam in online has both advantages and dis advantages</th>\n",
       "      <th>grade_sep</th>\n",
       "    </tr>\n",
       "  </thead>\n",
       "  <tbody>\n",
       "    <tr>\n",
       "      <th>0</th>\n",
       "      <td>2032001</td>\n",
       "      <td>AJAY NARAYAN   P</td>\n",
       "      <td>SS</td>\n",
       "      <td>Male</td>\n",
       "      <td>19</td>\n",
       "      <td>8.70</td>\n",
       "      <td>7.90</td>\n",
       "      <td>9.10</td>\n",
       "      <td>8.90</td>\n",
       "      <td>Laptop</td>\n",
       "      <td>Agree</td>\n",
       "      <td>Agree</td>\n",
       "      <td>Uncertain</td>\n",
       "      <td>Strongly Agree</td>\n",
       "      <td>Disagree</td>\n",
       "      <td>Agree</td>\n",
       "      <td>Strongly Disagree</td>\n",
       "      <td>&gt;8.5</td>\n",
       "    </tr>\n",
       "    <tr>\n",
       "      <th>1</th>\n",
       "      <td>2032002</td>\n",
       "      <td>AMAN   M</td>\n",
       "      <td>SS</td>\n",
       "      <td>Male</td>\n",
       "      <td>19</td>\n",
       "      <td>7.58</td>\n",
       "      <td>7.70</td>\n",
       "      <td>9.09</td>\n",
       "      <td>8.73</td>\n",
       "      <td>Laptop</td>\n",
       "      <td>Agree</td>\n",
       "      <td>Agree</td>\n",
       "      <td>Strongly Disagree</td>\n",
       "      <td>Agree</td>\n",
       "      <td>Agree</td>\n",
       "      <td>Agree</td>\n",
       "      <td>Agree</td>\n",
       "      <td>&gt;8.5</td>\n",
       "    </tr>\n",
       "    <tr>\n",
       "      <th>2</th>\n",
       "      <td>2032003</td>\n",
       "      <td>ASMA KHATUN   P</td>\n",
       "      <td>SS</td>\n",
       "      <td>Female</td>\n",
       "      <td>20</td>\n",
       "      <td>8.75</td>\n",
       "      <td>8.57</td>\n",
       "      <td>9.55</td>\n",
       "      <td>9.50</td>\n",
       "      <td>Laptop</td>\n",
       "      <td>Strongly Agree</td>\n",
       "      <td>Agree</td>\n",
       "      <td>Agree</td>\n",
       "      <td>Strongly Agree</td>\n",
       "      <td>Uncertain</td>\n",
       "      <td>Agree</td>\n",
       "      <td>Uncertain</td>\n",
       "      <td>&gt;9.0</td>\n",
       "    </tr>\n",
       "    <tr>\n",
       "      <th>3</th>\n",
       "      <td>2032004</td>\n",
       "      <td>DINESH KUMAR   P</td>\n",
       "      <td>SS</td>\n",
       "      <td>Male</td>\n",
       "      <td>20</td>\n",
       "      <td>8.38</td>\n",
       "      <td>8.45</td>\n",
       "      <td>8.57</td>\n",
       "      <td>8.77</td>\n",
       "      <td>Phone</td>\n",
       "      <td>Strongly Agree</td>\n",
       "      <td>Strongly Agree</td>\n",
       "      <td>Strongly Agree</td>\n",
       "      <td>Strongly Agree</td>\n",
       "      <td>Strongly Agree</td>\n",
       "      <td>Strongly Agree</td>\n",
       "      <td>Strongly Agree</td>\n",
       "      <td>&gt;8.5</td>\n",
       "    </tr>\n",
       "    <tr>\n",
       "      <th>4</th>\n",
       "      <td>2032005</td>\n",
       "      <td>DIVYA   I</td>\n",
       "      <td>SS</td>\n",
       "      <td>Female</td>\n",
       "      <td>19</td>\n",
       "      <td>8.08</td>\n",
       "      <td>8.48</td>\n",
       "      <td>8.77</td>\n",
       "      <td>8.64</td>\n",
       "      <td>Laptop</td>\n",
       "      <td>Agree</td>\n",
       "      <td>Agree</td>\n",
       "      <td>Agree</td>\n",
       "      <td>Uncertain</td>\n",
       "      <td>Uncertain</td>\n",
       "      <td>Agree</td>\n",
       "      <td>Uncertain</td>\n",
       "      <td>&gt;8.5</td>\n",
       "    </tr>\n",
       "  </tbody>\n",
       "</table>\n",
       "</div>"
      ],
      "text/plain": [
       "   Roll number              Name Department  Gender  Age  sem4_marks   \\\n",
       "0      2032001  AJAY NARAYAN   P         SS    Male   19         8.70   \n",
       "1      2032002          AMAN   M         SS    Male   19         7.58   \n",
       "2      2032003   ASMA KHATUN   P         SS  Female   20         8.75   \n",
       "3      2032004  DINESH KUMAR   P         SS    Male   20         8.38   \n",
       "4      2032005         DIVYA   I         SS  Female   19         8.08   \n",
       "\n",
       "   sem3_marks   sem2_marks   sem1_marks  Which device you use more frequently  \\\n",
       "0         7.90         9.10         8.90                               Laptop   \n",
       "1         7.70         9.09         8.73                               Laptop   \n",
       "2         8.57         9.55         9.50                               Laptop   \n",
       "3         8.45         8.57         8.77                                Phone   \n",
       "4         8.48         8.77         8.64                               Laptop   \n",
       "\n",
       "  Online mode is better then Offline Online makes you lazy  \\\n",
       "0                              Agree                 Agree   \n",
       "1                              Agree                 Agree   \n",
       "2                     Strongly Agree                 Agree   \n",
       "3                     Strongly Agree        Strongly Agree   \n",
       "4                              Agree                 Agree   \n",
       "\n",
       "  Use Electronic device for long time make tension  \\\n",
       "0                                        Uncertain   \n",
       "1                                Strongly Disagree   \n",
       "2                                            Agree   \n",
       "3                                   Strongly Agree   \n",
       "4                                            Agree   \n",
       "\n",
       "  Online mode is preferable for Scoring good marks in exam   \\\n",
       "0                                     Strongly Agree          \n",
       "1                                              Agree          \n",
       "2                                     Strongly Agree          \n",
       "3                                     Strongly Agree          \n",
       "4                                          Uncertain          \n",
       "\n",
       "  Work is more in online than offline  \\\n",
       "0                            Disagree   \n",
       "1                               Agree   \n",
       "2                           Uncertain   \n",
       "3                      Strongly Agree   \n",
       "4                           Uncertain   \n",
       "\n",
       "  To motivate student offline mode is preferrable  \\\n",
       "0                                           Agree   \n",
       "1                                           Agree   \n",
       "2                                           Agree   \n",
       "3                                  Strongly Agree   \n",
       "4                                           Agree   \n",
       "\n",
       "  Exam in online has both advantages and dis advantages grade_sep  \n",
       "0                                  Strongly Disagree         >8.5  \n",
       "1                                              Agree         >8.5  \n",
       "2                                          Uncertain         >9.0  \n",
       "3                                     Strongly Agree         >8.5  \n",
       "4                                          Uncertain         >8.5  "
      ]
     },
     "execution_count": 6,
     "metadata": {},
     "output_type": "execute_result"
    }
   ],
   "source": [
    "#Binning\n",
    "bins = [6.5,7.0,7.5,8.0,8.5,9.0,9.5,10.0]\n",
    "\n",
    "group_names = ['>6.5','>7.0','>7.5','>8.0','>8.5','>9.0','>9.5']\n",
    "\n",
    "data['grade_sep']= pd.cut(data['sem1_marks '],bins,labels=group_names)\n",
    "data.head()"
   ]
  },
  {
   "cell_type": "code",
   "execution_count": 7,
   "metadata": {
    "colab": {
     "base_uri": "https://localhost:8080/",
     "height": 374
    },
    "id": "FcuXWuUTiPOW",
    "outputId": "423021c5-d422-4b2f-c166-e99adbe86665"
   },
   "outputs": [
    {
     "data": {
      "image/png": "[encoded data removed]",
      "text/plain": [
       "<Figure size 800x600 with 1 Axes>"
      ]
     },
     "metadata": {},
     "output_type": "display_data"
    }
   ],
   "source": [
    "#Histogram for Binned Values\n",
    "df = pd.DataFrame(data)\n",
    "fig = plt.figure(figsize =(8,6))\n",
    "plt.hist(df['grade_sep'],bins=7)\n",
    "plt.show()"
   ]
  },
  {
   "cell_type": "code",
   "execution_count": 8,
   "metadata": {
    "colab": {
     "base_uri": "https://localhost:8080/",
     "height": 606
    },
    "id": "T-Wef_QBiSsE",
    "outputId": "df77f8af-d758-4189-b60a-9e034ab8ffcb"
   },
   "outputs": [
    {
     "data": {
      "image/png": "[encoded data removed]",
      "text/plain": [
       "<Figure size 600x1000 with 2 Axes>"
      ]
     },
     "metadata": {},
     "output_type": "display_data"
    }
   ],
   "source": [
    "# ONLINE EXAM - DISTRIBUTION PLOT\n",
    "\n",
    "plt.figure(4, figsize=(6,10))\n",
    "\n",
    "plt.subplot(211)\n",
    "sn.distplot(df['sem1_marks '])\n",
    "\n",
    "plt.subplot(212)\n",
    "sn.distplot(df['sem2_marks '])\n",
    "\n",
    "plt.show()"
   ]
  },
  {
   "cell_type": "code",
   "execution_count": 9,
   "metadata": {
    "colab": {
     "base_uri": "https://localhost:8080/",
     "height": 606
    },
    "id": "w34JU8PciWhE",
    "outputId": "4d4a1093-5912-47f6-f350-82180fc3ce57"
   },
   "outputs": [
    {
     "data": {
      "image/png": "[encoded data removed]",
      "text/plain": [
       "<Figure size 600x1000 with 2 Axes>"
      ]
     },
     "metadata": {},
     "output_type": "display_data"
    }
   ],
   "source": [
    "# OFFLINE EXAM - DISTRIBUTION PLOT\n",
    "\n",
    "plt.figure(2, figsize=(6,10))\n",
    "\n",
    "plt.subplot(211)\n",
    "sn.distplot(df['sem3_marks '])\n",
    "\n",
    "plt.subplot(212)\n",
    "sn.distplot(df['sem4_marks '])\n",
    "\n",
    "plt.show()"
   ]
  },
  {
   "cell_type": "markdown",
   "metadata": {
    "id": "EquRS6friiMY"
   },
   "source": [
    "From above graphs of offilne and online exams, we can easily give interfrence that :\n",
    "    1. Semester 1 scores are normally distributed and semester 2 score is also to some extend normally distributed,\n",
    "       where as semester 3 is not normally distributed and semester 4 is also not normally distibuted but it is compartively better than semester 3.\n",
    "    therefore, there is lot of randomness in semester 3 then following semester 4 and 2.\n",
    "    \n",
    "    Randomness in Scores : \n",
    "        max randomess > Semester 3 >semester 4 > semester 2 > Semester 1 > Min Randomness\n",
    "So, Online exam have lot of randomness , where offline exams gives stable score.\n",
    "\n"
   ]
  },
  {
   "cell_type": "code",
   "execution_count": 10,
   "metadata": {
    "colab": {
     "base_uri": "https://localhost:8080/",
     "height": 624
    },
    "id": "CpzTUmzEihSO",
    "outputId": "7bdfcdc9-280e-402c-a1b7-0a2ad768813f"
   },
   "outputs": [
    {
     "data": {
      "image/png": "[encoded data removed]",
      "text/plain": [
       "<Figure size 1200x800 with 1 Axes>"
      ]
     },
     "metadata": {},
     "output_type": "display_data"
    }
   ],
   "source": [
    "#BoxPlot for Each Semester\n",
    "\n",
    "data = [df['sem1_marks '],df['sem2_marks '],df['sem3_marks '],df['sem4_marks ']]\n",
    "#Figure Size\n",
    "fig = plt.figure(figsize =(12, 8))\n",
    "# Creating axes instance\n",
    "ax = fig.add_axes([0, 0, 1, 1])\n",
    "bp = ax.boxplot(data)\n",
    "plt.show()"
   ]
  },
  {
   "cell_type": "code",
   "execution_count": 11,
   "metadata": {
    "colab": {
     "base_uri": "https://localhost:8080/",
     "height": 746
    },
    "id": "YNQRs14Iiapf",
    "outputId": "af5ae280-df81-4c67-e037-bb762c8575b7"
   },
   "outputs": [
    {
     "data": {
      "text/html": [
       "<div>\n",
       "<style scoped>\n",
       "    .dataframe tbody tr th:only-of-type {\n",
       "        vertical-align: middle;\n",
       "    }\n",
       "\n",
       "    .dataframe tbody tr th {\n",
       "        vertical-align: top;\n",
       "    }\n",
       "\n",
       "    .dataframe thead th {\n",
       "        text-align: right;\n",
       "    }\n",
       "</style>\n",
       "<table border=\"1\" class=\"dataframe\">\n",
       "  <thead>\n",
       "    <tr style=\"text-align: right;\">\n",
       "      <th></th>\n",
       "      <th>Roll number</th>\n",
       "      <th>Name</th>\n",
       "      <th>Department</th>\n",
       "      <th>Gender</th>\n",
       "      <th>Age</th>\n",
       "      <th>sem4_marks</th>\n",
       "      <th>sem3_marks</th>\n",
       "      <th>sem2_marks</th>\n",
       "      <th>sem1_marks</th>\n",
       "      <th>Which device you use more frequently</th>\n",
       "      <th>Online mode is better then Offline</th>\n",
       "      <th>Online makes you lazy</th>\n",
       "      <th>Use Electronic device for long time make tension</th>\n",
       "      <th>Online mode is preferable for Scoring good marks in exam</th>\n",
       "      <th>Work is more in online than offline</th>\n",
       "      <th>To motivate student offline mode is preferrable</th>\n",
       "      <th>Exam in online has both advantages and dis advantages</th>\n",
       "      <th>grade_sep</th>\n",
       "    </tr>\n",
       "  </thead>\n",
       "  <tbody>\n",
       "    <tr>\n",
       "      <th>75</th>\n",
       "      <td>2032076</td>\n",
       "      <td>ISHA   D</td>\n",
       "      <td>DS</td>\n",
       "      <td>Female</td>\n",
       "      <td>20</td>\n",
       "      <td>8.25</td>\n",
       "      <td>8.65</td>\n",
       "      <td>9.62</td>\n",
       "      <td>9.10</td>\n",
       "      <td>Laptop</td>\n",
       "      <td>Agree</td>\n",
       "      <td>Agree</td>\n",
       "      <td>Agree</td>\n",
       "      <td>Agree</td>\n",
       "      <td>Agree</td>\n",
       "      <td>Agree</td>\n",
       "      <td>Agree</td>\n",
       "      <td>&gt;9.0</td>\n",
       "    </tr>\n",
       "    <tr>\n",
       "      <th>141</th>\n",
       "      <td>2032142</td>\n",
       "      <td>NAHAR SINGH   M</td>\n",
       "      <td>AI &amp; ML</td>\n",
       "      <td>Male</td>\n",
       "      <td>19</td>\n",
       "      <td>7.27</td>\n",
       "      <td>8.86</td>\n",
       "      <td>8.77</td>\n",
       "      <td>8.76</td>\n",
       "      <td>Phone</td>\n",
       "      <td>Agree</td>\n",
       "      <td>Strongly Agree</td>\n",
       "      <td>Agree</td>\n",
       "      <td>Agree</td>\n",
       "      <td>Agree</td>\n",
       "      <td>Uncertain</td>\n",
       "      <td>Uncertain</td>\n",
       "      <td>&gt;8.5</td>\n",
       "    </tr>\n",
       "    <tr>\n",
       "      <th>152</th>\n",
       "      <td>2032153</td>\n",
       "      <td>SHALU   H</td>\n",
       "      <td>AI &amp; ML</td>\n",
       "      <td>Male</td>\n",
       "      <td>19</td>\n",
       "      <td>8.03</td>\n",
       "      <td>8.86</td>\n",
       "      <td>8.14</td>\n",
       "      <td>8.24</td>\n",
       "      <td>Laptop</td>\n",
       "      <td>Agree</td>\n",
       "      <td>Strongly Agree</td>\n",
       "      <td>Agree</td>\n",
       "      <td>Agree</td>\n",
       "      <td>Agree</td>\n",
       "      <td>Strongly Agree</td>\n",
       "      <td>Uncertain</td>\n",
       "      <td>&gt;8.0</td>\n",
       "    </tr>\n",
       "    <tr>\n",
       "      <th>55</th>\n",
       "      <td>2032056</td>\n",
       "      <td>SARVESH   K</td>\n",
       "      <td>DS</td>\n",
       "      <td>Male</td>\n",
       "      <td>19</td>\n",
       "      <td>6.88</td>\n",
       "      <td>7.20</td>\n",
       "      <td>8.20</td>\n",
       "      <td>8.40</td>\n",
       "      <td>Laptop</td>\n",
       "      <td>Agree</td>\n",
       "      <td>Strongly Agree</td>\n",
       "      <td>Agree</td>\n",
       "      <td>Strongly Agree</td>\n",
       "      <td>Agree</td>\n",
       "      <td>Strongly Agree</td>\n",
       "      <td>Agree</td>\n",
       "      <td>&gt;8.0</td>\n",
       "    </tr>\n",
       "    <tr>\n",
       "      <th>22</th>\n",
       "      <td>2032023</td>\n",
       "      <td>RAHUL   R</td>\n",
       "      <td>SS</td>\n",
       "      <td>Female</td>\n",
       "      <td>20</td>\n",
       "      <td>8.00</td>\n",
       "      <td>8.70</td>\n",
       "      <td>8.74</td>\n",
       "      <td>9.23</td>\n",
       "      <td>Laptop</td>\n",
       "      <td>Strongly Agree</td>\n",
       "      <td>Strongly Agree</td>\n",
       "      <td>Strongly Agree</td>\n",
       "      <td>Strongly Agree</td>\n",
       "      <td>Strongly Agree</td>\n",
       "      <td>Strongly Agree</td>\n",
       "      <td>Strongly Disagree</td>\n",
       "      <td>&gt;9.0</td>\n",
       "    </tr>\n",
       "    <tr>\n",
       "      <th>8</th>\n",
       "      <td>2032009</td>\n",
       "      <td>JYOTI   M</td>\n",
       "      <td>SS</td>\n",
       "      <td>Male</td>\n",
       "      <td>20</td>\n",
       "      <td>7.54</td>\n",
       "      <td>7.70</td>\n",
       "      <td>9.14</td>\n",
       "      <td>9.00</td>\n",
       "      <td>Laptop</td>\n",
       "      <td>Disagree</td>\n",
       "      <td>Agree</td>\n",
       "      <td>Agree</td>\n",
       "      <td>Agree</td>\n",
       "      <td>Agree</td>\n",
       "      <td>Agree</td>\n",
       "      <td>Agree</td>\n",
       "      <td>&gt;8.5</td>\n",
       "    </tr>\n",
       "    <tr>\n",
       "      <th>2</th>\n",
       "      <td>2032003</td>\n",
       "      <td>ASMA KHATUN   P</td>\n",
       "      <td>SS</td>\n",
       "      <td>Female</td>\n",
       "      <td>20</td>\n",
       "      <td>8.75</td>\n",
       "      <td>8.57</td>\n",
       "      <td>9.55</td>\n",
       "      <td>9.50</td>\n",
       "      <td>Laptop</td>\n",
       "      <td>Strongly Agree</td>\n",
       "      <td>Agree</td>\n",
       "      <td>Agree</td>\n",
       "      <td>Strongly Agree</td>\n",
       "      <td>Uncertain</td>\n",
       "      <td>Agree</td>\n",
       "      <td>Uncertain</td>\n",
       "      <td>&gt;9.0</td>\n",
       "    </tr>\n",
       "    <tr>\n",
       "      <th>93</th>\n",
       "      <td>2032094</td>\n",
       "      <td>SHAKSHI SAGAR   R</td>\n",
       "      <td>DS</td>\n",
       "      <td>Female</td>\n",
       "      <td>19</td>\n",
       "      <td>9.04</td>\n",
       "      <td>8.70</td>\n",
       "      <td>9.48</td>\n",
       "      <td>9.43</td>\n",
       "      <td>Laptop</td>\n",
       "      <td>Uncertain</td>\n",
       "      <td>Agree</td>\n",
       "      <td>Disagree</td>\n",
       "      <td>Strongly Agree</td>\n",
       "      <td>Agree</td>\n",
       "      <td>Uncertain</td>\n",
       "      <td>Disagree</td>\n",
       "      <td>&gt;9.0</td>\n",
       "    </tr>\n",
       "  </tbody>\n",
       "</table>\n",
       "</div>"
      ],
      "text/plain": [
       "     Roll number               Name Department  Gender  Age  sem4_marks   \\\n",
       "75       2032076           ISHA   D         DS  Female   20         8.25   \n",
       "141      2032142    NAHAR SINGH   M    AI & ML    Male   19         7.27   \n",
       "152      2032153          SHALU   H    AI & ML    Male   19         8.03   \n",
       "55       2032056        SARVESH   K         DS    Male   19         6.88   \n",
       "22       2032023          RAHUL   R         SS  Female   20         8.00   \n",
       "8        2032009          JYOTI   M         SS    Male   20         7.54   \n",
       "2        2032003    ASMA KHATUN   P         SS  Female   20         8.75   \n",
       "93       2032094  SHAKSHI SAGAR   R         DS  Female   19         9.04   \n",
       "\n",
       "     sem3_marks   sem2_marks   sem1_marks   \\\n",
       "75          8.65         9.62         9.10   \n",
       "141         8.86         8.77         8.76   \n",
       "152         8.86         8.14         8.24   \n",
       "55          7.20         8.20         8.40   \n",
       "22          8.70         8.74         9.23   \n",
       "8           7.70         9.14         9.00   \n",
       "2           8.57         9.55         9.50   \n",
       "93          8.70         9.48         9.43   \n",
       "\n",
       "    Which device you use more frequently Online mode is better then Offline  \\\n",
       "75                                Laptop                              Agree   \n",
       "141                                Phone                              Agree   \n",
       "152                               Laptop                              Agree   \n",
       "55                                Laptop                              Agree   \n",
       "22                                Laptop                     Strongly Agree   \n",
       "8                                 Laptop                           Disagree   \n",
       "2                                 Laptop                     Strongly Agree   \n",
       "93                                Laptop                          Uncertain   \n",
       "\n",
       "    Online makes you lazy Use Electronic device for long time make tension  \\\n",
       "75                  Agree                                            Agree   \n",
       "141        Strongly Agree                                            Agree   \n",
       "152        Strongly Agree                                            Agree   \n",
       "55         Strongly Agree                                            Agree   \n",
       "22         Strongly Agree                                   Strongly Agree   \n",
       "8                   Agree                                            Agree   \n",
       "2                   Agree                                            Agree   \n",
       "93                  Agree                                         Disagree   \n",
       "\n",
       "    Online mode is preferable for Scoring good marks in exam   \\\n",
       "75                                               Agree          \n",
       "141                                              Agree          \n",
       "152                                              Agree          \n",
       "55                                      Strongly Agree          \n",
       "22                                      Strongly Agree          \n",
       "8                                                Agree          \n",
       "2                                       Strongly Agree          \n",
       "93                                      Strongly Agree          \n",
       "\n",
       "    Work is more in online than offline  \\\n",
       "75                                Agree   \n",
       "141                               Agree   \n",
       "152                               Agree   \n",
       "55                                Agree   \n",
       "22                       Strongly Agree   \n",
       "8                                 Agree   \n",
       "2                             Uncertain   \n",
       "93                                Agree   \n",
       "\n",
       "    To motivate student offline mode is preferrable  \\\n",
       "75                                            Agree   \n",
       "141                                       Uncertain   \n",
       "152                                  Strongly Agree   \n",
       "55                                   Strongly Agree   \n",
       "22                                   Strongly Agree   \n",
       "8                                             Agree   \n",
       "2                                             Agree   \n",
       "93                                        Uncertain   \n",
       "\n",
       "    Exam in online has both advantages and dis advantages grade_sep  \n",
       "75                                               Agree         >9.0  \n",
       "141                                          Uncertain         >8.5  \n",
       "152                                          Uncertain         >8.0  \n",
       "55                                               Agree         >8.0  \n",
       "22                                   Strongly Disagree         >9.0  \n",
       "8                                                Agree         >8.5  \n",
       "2                                            Uncertain         >9.0  \n",
       "93                                            Disagree         >9.0  "
      ]
     },
     "execution_count": 11,
     "metadata": {},
     "output_type": "execute_result"
    }
   ],
   "source": [
    "df.sample(frac=0.05)"
   ]
  },
  {
   "cell_type": "code",
   "execution_count": 12,
   "metadata": {
    "colab": {
     "base_uri": "https://localhost:8080/"
    },
    "id": "Cd2qhOHmitxr",
    "outputId": "aa60f017-b4f7-404a-fcbb-a1261849b71a"
   },
   "outputs": [
    {
     "name": "stdout",
     "output_type": "stream",
     "text": [
      "<class 'pandas.core.frame.DataFrame'>\n",
      "RangeIndex: 167 entries, 0 to 166\n",
      "Data columns (total 18 columns):\n",
      " #   Column                                                     Non-Null Count  Dtype   \n",
      "---  ------                                                     --------------  -----   \n",
      " 0   Roll number                                                167 non-null    int64   \n",
      " 1   Name                                                       167 non-null    object  \n",
      " 2   Department                                                 167 non-null    object  \n",
      " 3   Gender                                                     167 non-null    object  \n",
      " 4   Age                                                        167 non-null    int64   \n",
      " 5   sem4_marks                                                 167 non-null    float64 \n",
      " 6   sem3_marks                                                 167 non-null    float64 \n",
      " 7   sem2_marks                                                 167 non-null    float64 \n",
      " 8   sem1_marks                                                 167 non-null    float64 \n",
      " 9   Which device you use more frequently                       167 non-null    object  \n",
      " 10  Online mode is better then Offline                         167 non-null    object  \n",
      " 11  Online makes you lazy                                      167 non-null    object  \n",
      " 12  Use Electronic device for long time make tension           167 non-null    object  \n",
      " 13  Online mode is preferable for Scoring good marks in exam   167 non-null    object  \n",
      " 14  Work is more in online than offline                        167 non-null    object  \n",
      " 15  To motivate student offline mode is preferrable            167 non-null    object  \n",
      " 16  Exam in online has both advantages and dis advantages      167 non-null    object  \n",
      " 17  grade_sep                                                  167 non-null    category\n",
      "dtypes: category(1), float64(4), int64(2), object(11)\n",
      "memory usage: 22.8+ KB\n"
     ]
    }
   ],
   "source": [
    "# Data types of each data attributes\n",
    "df.info()"
   ]
  },
  {
   "cell_type": "code",
   "execution_count": 13,
   "metadata": {
    "colab": {
     "base_uri": "https://localhost:8080/"
    },
    "id": "zybUfUq_i1gR",
    "outputId": "cabec39f-7117-4959-e952-870467029b00"
   },
   "outputs": [
    {
     "data": {
      "text/plain": [
       "Roll number                                                     int64\n",
       "Name                                                           object\n",
       "Department                                                     object\n",
       "Gender                                                         object\n",
       "Age                                                             int64\n",
       "sem4_marks                                                    float64\n",
       "sem3_marks                                                    float64\n",
       "sem2_marks                                                    float64\n",
       "sem1_marks                                                    float64\n",
       "Which device you use more frequently                           object\n",
       "Online mode is better then Offline                             object\n",
       "Online makes you lazy                                          object\n",
       "Use Electronic device for long time make tension               object\n",
       "Online mode is preferable for Scoring good marks in exam       object\n",
       "Work is more in online than offline                            object\n",
       "To motivate student offline mode is preferrable                object\n",
       "Exam in online has both advantages and dis advantages          object\n",
       "grade_sep                                                    category\n",
       "dtype: object"
      ]
     },
     "execution_count": 13,
     "metadata": {},
     "output_type": "execute_result"
    }
   ],
   "source": [
    "df.dtypes"
   ]
  },
  {
   "cell_type": "code",
   "execution_count": 14,
   "metadata": {
    "colab": {
     "base_uri": "https://localhost:8080/",
     "height": 300
    },
    "id": "E86WbCb9i5lu",
    "outputId": "1f12320f-7d27-41d7-b3c5-8dcb3e9a744d"
   },
   "outputs": [
    {
     "data": {
      "text/html": [
       "<div>\n",
       "<style scoped>\n",
       "    .dataframe tbody tr th:only-of-type {\n",
       "        vertical-align: middle;\n",
       "    }\n",
       "\n",
       "    .dataframe tbody tr th {\n",
       "        vertical-align: top;\n",
       "    }\n",
       "\n",
       "    .dataframe thead th {\n",
       "        text-align: right;\n",
       "    }\n",
       "</style>\n",
       "<table border=\"1\" class=\"dataframe\">\n",
       "  <thead>\n",
       "    <tr style=\"text-align: right;\">\n",
       "      <th></th>\n",
       "      <th>Roll number</th>\n",
       "      <th>Age</th>\n",
       "      <th>sem4_marks</th>\n",
       "      <th>sem3_marks</th>\n",
       "      <th>sem2_marks</th>\n",
       "      <th>sem1_marks</th>\n",
       "    </tr>\n",
       "  </thead>\n",
       "  <tbody>\n",
       "    <tr>\n",
       "      <th>count</th>\n",
       "      <td>1.670000e+02</td>\n",
       "      <td>167.000000</td>\n",
       "      <td>167.000000</td>\n",
       "      <td>167.000000</td>\n",
       "      <td>167.000000</td>\n",
       "      <td>167.000000</td>\n",
       "    </tr>\n",
       "    <tr>\n",
       "      <th>mean</th>\n",
       "      <td>2.032084e+06</td>\n",
       "      <td>19.598802</td>\n",
       "      <td>8.060180</td>\n",
       "      <td>8.416707</td>\n",
       "      <td>8.916048</td>\n",
       "      <td>8.823473</td>\n",
       "    </tr>\n",
       "    <tr>\n",
       "      <th>std</th>\n",
       "      <td>4.835287e+01</td>\n",
       "      <td>0.560334</td>\n",
       "      <td>0.685667</td>\n",
       "      <td>0.530845</td>\n",
       "      <td>0.590999</td>\n",
       "      <td>0.476440</td>\n",
       "    </tr>\n",
       "    <tr>\n",
       "      <th>min</th>\n",
       "      <td>2.032001e+06</td>\n",
       "      <td>18.000000</td>\n",
       "      <td>6.700000</td>\n",
       "      <td>6.830000</td>\n",
       "      <td>7.000000</td>\n",
       "      <td>7.380000</td>\n",
       "    </tr>\n",
       "    <tr>\n",
       "      <th>25%</th>\n",
       "      <td>2.032042e+06</td>\n",
       "      <td>19.000000</td>\n",
       "      <td>7.540000</td>\n",
       "      <td>8.095000</td>\n",
       "      <td>8.560000</td>\n",
       "      <td>8.620000</td>\n",
       "    </tr>\n",
       "    <tr>\n",
       "      <th>50%</th>\n",
       "      <td>2.032084e+06</td>\n",
       "      <td>20.000000</td>\n",
       "      <td>8.040000</td>\n",
       "      <td>8.480000</td>\n",
       "      <td>8.910000</td>\n",
       "      <td>8.900000</td>\n",
       "    </tr>\n",
       "    <tr>\n",
       "      <th>75%</th>\n",
       "      <td>2.032126e+06</td>\n",
       "      <td>20.000000</td>\n",
       "      <td>8.520000</td>\n",
       "      <td>8.830000</td>\n",
       "      <td>9.405000</td>\n",
       "      <td>9.160000</td>\n",
       "    </tr>\n",
       "    <tr>\n",
       "      <th>max</th>\n",
       "      <td>2.032167e+06</td>\n",
       "      <td>21.000000</td>\n",
       "      <td>9.540000</td>\n",
       "      <td>9.380000</td>\n",
       "      <td>10.000000</td>\n",
       "      <td>10.000000</td>\n",
       "    </tr>\n",
       "  </tbody>\n",
       "</table>\n",
       "</div>"
      ],
      "text/plain": [
       "        Roll number         Age  sem4_marks   sem3_marks   sem2_marks   \\\n",
       "count  1.670000e+02  167.000000   167.000000   167.000000   167.000000   \n",
       "mean   2.032084e+06   19.598802     8.060180     8.416707     8.916048   \n",
       "std    4.835287e+01    0.560334     0.685667     0.530845     0.590999   \n",
       "min    2.032001e+06   18.000000     6.700000     6.830000     7.000000   \n",
       "25%    2.032042e+06   19.000000     7.540000     8.095000     8.560000   \n",
       "50%    2.032084e+06   20.000000     8.040000     8.480000     8.910000   \n",
       "75%    2.032126e+06   20.000000     8.520000     8.830000     9.405000   \n",
       "max    2.032167e+06   21.000000     9.540000     9.380000    10.000000   \n",
       "\n",
       "       sem1_marks   \n",
       "count   167.000000  \n",
       "mean      8.823473  \n",
       "std       0.476440  \n",
       "min       7.380000  \n",
       "25%       8.620000  \n",
       "50%       8.900000  \n",
       "75%       9.160000  \n",
       "max      10.000000  "
      ]
     },
     "execution_count": 14,
     "metadata": {},
     "output_type": "execute_result"
    }
   ],
   "source": [
    "# Statistical Info\n",
    "df.describe()"
   ]
  },
  {
   "cell_type": "code",
   "execution_count": 15,
   "metadata": {
    "colab": {
     "base_uri": "https://localhost:8080/",
     "height": 238
    },
    "id": "x8fRHlv2i8UG",
    "outputId": "dfe88fcf-6ce4-4139-e05c-c5aaadda9a6a"
   },
   "outputs": [
    {
     "data": {
      "text/html": [
       "<div>\n",
       "<style scoped>\n",
       "    .dataframe tbody tr th:only-of-type {\n",
       "        vertical-align: middle;\n",
       "    }\n",
       "\n",
       "    .dataframe tbody tr th {\n",
       "        vertical-align: top;\n",
       "    }\n",
       "\n",
       "    .dataframe thead th {\n",
       "        text-align: right;\n",
       "    }\n",
       "</style>\n",
       "<table border=\"1\" class=\"dataframe\">\n",
       "  <thead>\n",
       "    <tr style=\"text-align: right;\">\n",
       "      <th></th>\n",
       "      <th>Roll number</th>\n",
       "      <th>Age</th>\n",
       "      <th>sem4_marks</th>\n",
       "      <th>sem3_marks</th>\n",
       "      <th>sem2_marks</th>\n",
       "      <th>sem1_marks</th>\n",
       "    </tr>\n",
       "  </thead>\n",
       "  <tbody>\n",
       "    <tr>\n",
       "      <th>Roll number</th>\n",
       "      <td>1.000000</td>\n",
       "      <td>-0.044024</td>\n",
       "      <td>-0.172536</td>\n",
       "      <td>0.425793</td>\n",
       "      <td>-0.292827</td>\n",
       "      <td>-0.466434</td>\n",
       "    </tr>\n",
       "    <tr>\n",
       "      <th>Age</th>\n",
       "      <td>-0.044024</td>\n",
       "      <td>1.000000</td>\n",
       "      <td>0.016809</td>\n",
       "      <td>-0.096415</td>\n",
       "      <td>-0.031740</td>\n",
       "      <td>-0.017314</td>\n",
       "    </tr>\n",
       "    <tr>\n",
       "      <th>sem4_marks</th>\n",
       "      <td>-0.172536</td>\n",
       "      <td>0.016809</td>\n",
       "      <td>1.000000</td>\n",
       "      <td>0.572491</td>\n",
       "      <td>0.630329</td>\n",
       "      <td>0.533440</td>\n",
       "    </tr>\n",
       "    <tr>\n",
       "      <th>sem3_marks</th>\n",
       "      <td>0.425793</td>\n",
       "      <td>-0.096415</td>\n",
       "      <td>0.572491</td>\n",
       "      <td>1.000000</td>\n",
       "      <td>0.385119</td>\n",
       "      <td>0.145653</td>\n",
       "    </tr>\n",
       "    <tr>\n",
       "      <th>sem2_marks</th>\n",
       "      <td>-0.292827</td>\n",
       "      <td>-0.031740</td>\n",
       "      <td>0.630329</td>\n",
       "      <td>0.385119</td>\n",
       "      <td>1.000000</td>\n",
       "      <td>0.706194</td>\n",
       "    </tr>\n",
       "    <tr>\n",
       "      <th>sem1_marks</th>\n",
       "      <td>-0.466434</td>\n",
       "      <td>-0.017314</td>\n",
       "      <td>0.533440</td>\n",
       "      <td>0.145653</td>\n",
       "      <td>0.706194</td>\n",
       "      <td>1.000000</td>\n",
       "    </tr>\n",
       "  </tbody>\n",
       "</table>\n",
       "</div>"
      ],
      "text/plain": [
       "             Roll number       Age  sem4_marks   sem3_marks   sem2_marks   \\\n",
       "Roll number     1.000000 -0.044024    -0.172536     0.425793    -0.292827   \n",
       "Age            -0.044024  1.000000     0.016809    -0.096415    -0.031740   \n",
       "sem4_marks     -0.172536  0.016809     1.000000     0.572491     0.630329   \n",
       "sem3_marks      0.425793 -0.096415     0.572491     1.000000     0.385119   \n",
       "sem2_marks     -0.292827 -0.031740     0.630329     0.385119     1.000000   \n",
       "sem1_marks     -0.466434 -0.017314     0.533440     0.145653     0.706194   \n",
       "\n",
       "             sem1_marks   \n",
       "Roll number    -0.466434  \n",
       "Age            -0.017314  \n",
       "sem4_marks      0.533440  \n",
       "sem3_marks      0.145653  \n",
       "sem2_marks      0.706194  \n",
       "sem1_marks      1.000000  "
      ]
     },
     "execution_count": 15,
     "metadata": {},
     "output_type": "execute_result"
    }
   ],
   "source": [
    "# Correlation for entire semester\n",
    "df.corr()"
   ]
  },
  {
   "cell_type": "code",
   "execution_count": 16,
   "metadata": {
    "colab": {
     "base_uri": "https://localhost:8080/",
     "height": 175
    },
    "id": "R-SfMGqHjAR9",
    "outputId": "b1bb0d27-ee04-40ca-d9b8-e44598ce7734"
   },
   "outputs": [
    {
     "data": {
      "text/html": [
       "<div>\n",
       "<style scoped>\n",
       "    .dataframe tbody tr th:only-of-type {\n",
       "        vertical-align: middle;\n",
       "    }\n",
       "\n",
       "    .dataframe tbody tr th {\n",
       "        vertical-align: top;\n",
       "    }\n",
       "\n",
       "    .dataframe thead th {\n",
       "        text-align: right;\n",
       "    }\n",
       "</style>\n",
       "<table border=\"1\" class=\"dataframe\">\n",
       "  <thead>\n",
       "    <tr style=\"text-align: right;\">\n",
       "      <th></th>\n",
       "      <th>sem4_marks</th>\n",
       "      <th>sem3_marks</th>\n",
       "      <th>sem2_marks</th>\n",
       "      <th>sem1_marks</th>\n",
       "    </tr>\n",
       "  </thead>\n",
       "  <tbody>\n",
       "    <tr>\n",
       "      <th>sem4_marks</th>\n",
       "      <td>1.000000</td>\n",
       "      <td>0.996847</td>\n",
       "      <td>0.835904</td>\n",
       "      <td>0.876107</td>\n",
       "    </tr>\n",
       "    <tr>\n",
       "      <th>sem3_marks</th>\n",
       "      <td>0.996847</td>\n",
       "      <td>1.000000</td>\n",
       "      <td>0.800714</td>\n",
       "      <td>0.865954</td>\n",
       "    </tr>\n",
       "    <tr>\n",
       "      <th>sem2_marks</th>\n",
       "      <td>0.835904</td>\n",
       "      <td>0.800714</td>\n",
       "      <td>1.000000</td>\n",
       "      <td>0.943023</td>\n",
       "    </tr>\n",
       "    <tr>\n",
       "      <th>sem1_marks</th>\n",
       "      <td>0.876107</td>\n",
       "      <td>0.865954</td>\n",
       "      <td>0.943023</td>\n",
       "      <td>1.000000</td>\n",
       "    </tr>\n",
       "  </tbody>\n",
       "</table>\n",
       "</div>"
      ],
      "text/plain": [
       "             sem4_marks   sem3_marks   sem2_marks   sem1_marks \n",
       "sem4_marks      1.000000     0.996847     0.835904     0.876107\n",
       "sem3_marks      0.996847     1.000000     0.800714     0.865954\n",
       "sem2_marks      0.835904     0.800714     1.000000     0.943023\n",
       "sem1_marks      0.876107     0.865954     0.943023     1.000000"
      ]
     },
     "execution_count": 16,
     "metadata": {},
     "output_type": "execute_result"
    }
   ],
   "source": [
    "#Correlation between each semester\n",
    "df.iloc[5:9,5:9].corr()"
   ]
  },
  {
   "cell_type": "code",
   "execution_count": 17,
   "metadata": {
    "colab": {
     "base_uri": "https://localhost:8080/",
     "height": 287
    },
    "id": "7z141rqCjDEm",
    "outputId": "f7197bc7-924b-4645-c422-13ce99449a90"
   },
   "outputs": [
    {
     "data": {
      "text/plain": [
       "<AxesSubplot: >"
      ]
     },
     "execution_count": 17,
     "metadata": {},
     "output_type": "execute_result"
    },
    {
     "data": {
      "image/png": "[encoded data removed]",
      "text/plain": [
       "<Figure size 640x480 with 2 Axes>"
      ]
     },
     "metadata": {},
     "output_type": "display_data"
    }
   ],
   "source": [
    "sn.heatmap(df.iloc[5:9,5:9].corr(), linewidths=.8, annot=True)"
   ]
  },
  {
   "cell_type": "code",
   "execution_count": 18,
   "metadata": {
    "id": "_XalflzEjFls"
   },
   "outputs": [],
   "source": [
    "#GENDER DESCRIPTION"
   ]
  },
  {
   "cell_type": "code",
   "execution_count": 19,
   "metadata": {
    "colab": {
     "base_uri": "https://localhost:8080/"
    },
    "id": "vzwfpdUAjXDn",
    "outputId": "e29e5942-3158-4e39-d767-3264f2f70d43"
   },
   "outputs": [
    {
     "data": {
      "text/plain": [
       "Female    91\n",
       "Male      76\n",
       "Name: Gender, dtype: int64"
      ]
     },
     "execution_count": 19,
     "metadata": {},
     "output_type": "execute_result"
    }
   ],
   "source": [
    "#show count Gender\n",
    "df['Gender'].value_counts()"
   ]
  },
  {
   "cell_type": "code",
   "execution_count": 20,
   "metadata": {
    "colab": {
     "base_uri": "https://localhost:8080/"
    },
    "id": "czZ9SrYDjanC",
    "outputId": "17a97364-0e73-4764-c6e9-e9fd362264f8"
   },
   "outputs": [
    {
     "data": {
      "text/plain": [
       "array(['Male', 'Female'], dtype=object)"
      ]
     },
     "execution_count": 20,
     "metadata": {},
     "output_type": "execute_result"
    }
   ],
   "source": [
    "#show Gender's unique\n",
    "df['Gender'].unique()"
   ]
  },
  {
   "cell_type": "code",
   "execution_count": 21,
   "metadata": {
    "colab": {
     "base_uri": "https://localhost:8080/",
     "height": 301
    },
    "id": "9eU3T2pAjdGx",
    "outputId": "989e0ca3-f3c9-4d98-d473-5864ed7a2ed9"
   },
   "outputs": [
    {
     "data": {
      "image/png": "[encoded data removed]",
      "text/plain": [
       "<Figure size 640x480 with 1 Axes>"
      ]
     },
     "metadata": {},
     "output_type": "display_data"
    }
   ],
   "source": [
    "# visualize Gender's bar plot\n",
    "sn.set(style='whitegrid')\n",
    "ax=sn.barplot(x=df['Gender'].value_counts().index,y=df['Gender'].value_counts().values,palette=\"Reds_d\",hue=['female','male'])\n",
    "plt.legend(loc=8)\n",
    "plt.xlabel('Gender')\n",
    "plt.ylabel('Frequency')\n",
    "plt.title('Show of Gender Bar Plot')\n",
    "plt.show()"
   ]
  },
  {
   "cell_type": "code",
   "execution_count": 22,
   "metadata": {
    "colab": {
     "base_uri": "https://localhost:8080/",
     "height": 464
    },
    "id": "UWLTZNDJjkRD",
    "outputId": "4111d221-9067-4231-9aa5-114db4bdaf5b"
   },
   "outputs": [
    {
     "data": {
      "image/png": "[encoded data removed]",
      "text/plain": [
       "<Figure size 700x700 with 1 Axes>"
      ]
     },
     "metadata": {},
     "output_type": "display_data"
    }
   ],
   "source": [
    "#DEPERMENT DESCRIPTION\n",
    "plt.figure(figsize=(7,7))\n",
    "sn.barplot(x=df['Department'].value_counts().index,\n",
    "              y=df['Department'].value_counts().values)\n",
    "plt.xlabel('Department')\n",
    "plt.ylabel('Frequency')\n",
    "plt.title('Show of Department Bar Plot')\n",
    "plt.show()"
   ]
  },
  {
   "cell_type": "code",
   "execution_count": 23,
   "metadata": {
    "id": "OE4Ibvp-jme2"
   },
   "outputs": [],
   "source": [
    "# MARKS - ALL GPA - DESCRIPTION"
   ]
  },
  {
   "cell_type": "code",
   "execution_count": 24,
   "metadata": {
    "id": "G02bw9BCj3m5"
   },
   "outputs": [],
   "source": [
    "#Calculating Avg of online exams(Sem 1 and Sem 2)\n",
    "cols = ['sem1_marks ','sem2_marks ']\n",
    "df['offline_avg'] =  df[cols].astype(float).mean(axis=1)"
   ]
  },
  {
   "cell_type": "code",
   "execution_count": 25,
   "metadata": {
    "id": "yv44bEZ1j7Gr"
   },
   "outputs": [],
   "source": [
    "#Calculating Avg of offline exams(Sem 3 and Sem 4)\n",
    "cols = ['sem3_marks ','sem4_marks ']\n",
    "df['online_avg'] =  df[cols].astype(float).mean(axis=1)"
   ]
  },
  {
   "cell_type": "code",
   "execution_count": 26,
   "metadata": {
    "id": "3-VICo5lj9WS"
   },
   "outputs": [],
   "source": [
    "#Calculating Avg of offline and online exams(Sem 1 and Sem 2)\n",
    "cols = ['sem1_marks ','sem2_marks ','sem3_marks ','sem4_marks ']\n",
    "df['avg'] =  df[cols].astype(float).mean(axis=1)"
   ]
  },
  {
   "cell_type": "code",
   "execution_count": 27,
   "metadata": {
    "colab": {
     "base_uri": "https://localhost:8080/",
     "height": 904
    },
    "id": "9CRLYoZ8j_ld",
    "outputId": "7325d5aa-8d6b-4da1-b5a6-638c5600bf95"
   },
   "outputs": [
    {
     "data": {
      "text/html": [
       "<div>\n",
       "<style scoped>\n",
       "    .dataframe tbody tr th:only-of-type {\n",
       "        vertical-align: middle;\n",
       "    }\n",
       "\n",
       "    .dataframe tbody tr th {\n",
       "        vertical-align: top;\n",
       "    }\n",
       "\n",
       "    .dataframe thead th {\n",
       "        text-align: right;\n",
       "    }\n",
       "</style>\n",
       "<table border=\"1\" class=\"dataframe\">\n",
       "  <thead>\n",
       "    <tr style=\"text-align: right;\">\n",
       "      <th></th>\n",
       "      <th>Roll number</th>\n",
       "      <th>Name</th>\n",
       "      <th>Department</th>\n",
       "      <th>Gender</th>\n",
       "      <th>Age</th>\n",
       "      <th>sem4_marks</th>\n",
       "      <th>sem3_marks</th>\n",
       "      <th>sem2_marks</th>\n",
       "      <th>sem1_marks</th>\n",
       "      <th>Which device you use more frequently</th>\n",
       "      <th>...</th>\n",
       "      <th>Online makes you lazy</th>\n",
       "      <th>Use Electronic device for long time make tension</th>\n",
       "      <th>Online mode is preferable for Scoring good marks in exam</th>\n",
       "      <th>Work is more in online than offline</th>\n",
       "      <th>To motivate student offline mode is preferrable</th>\n",
       "      <th>Exam in online has both advantages and dis advantages</th>\n",
       "      <th>grade_sep</th>\n",
       "      <th>offline_avg</th>\n",
       "      <th>online_avg</th>\n",
       "      <th>avg</th>\n",
       "    </tr>\n",
       "  </thead>\n",
       "  <tbody>\n",
       "    <tr>\n",
       "      <th>0</th>\n",
       "      <td>2032001</td>\n",
       "      <td>AJAY NARAYAN   P</td>\n",
       "      <td>SS</td>\n",
       "      <td>Male</td>\n",
       "      <td>19</td>\n",
       "      <td>8.70</td>\n",
       "      <td>7.90</td>\n",
       "      <td>9.10</td>\n",
       "      <td>8.90</td>\n",
       "      <td>Laptop</td>\n",
       "      <td>...</td>\n",
       "      <td>Agree</td>\n",
       "      <td>Uncertain</td>\n",
       "      <td>Strongly Agree</td>\n",
       "      <td>Disagree</td>\n",
       "      <td>Agree</td>\n",
       "      <td>Strongly Disagree</td>\n",
       "      <td>&gt;8.5</td>\n",
       "      <td>9.000</td>\n",
       "      <td>8.300</td>\n",
       "      <td>8.6500</td>\n",
       "    </tr>\n",
       "    <tr>\n",
       "      <th>1</th>\n",
       "      <td>2032002</td>\n",
       "      <td>AMAN   M</td>\n",
       "      <td>SS</td>\n",
       "      <td>Male</td>\n",
       "      <td>19</td>\n",
       "      <td>7.58</td>\n",
       "      <td>7.70</td>\n",
       "      <td>9.09</td>\n",
       "      <td>8.73</td>\n",
       "      <td>Laptop</td>\n",
       "      <td>...</td>\n",
       "      <td>Agree</td>\n",
       "      <td>Strongly Disagree</td>\n",
       "      <td>Agree</td>\n",
       "      <td>Agree</td>\n",
       "      <td>Agree</td>\n",
       "      <td>Agree</td>\n",
       "      <td>&gt;8.5</td>\n",
       "      <td>8.910</td>\n",
       "      <td>7.640</td>\n",
       "      <td>8.2750</td>\n",
       "    </tr>\n",
       "    <tr>\n",
       "      <th>2</th>\n",
       "      <td>2032003</td>\n",
       "      <td>ASMA KHATUN   P</td>\n",
       "      <td>SS</td>\n",
       "      <td>Female</td>\n",
       "      <td>20</td>\n",
       "      <td>8.75</td>\n",
       "      <td>8.57</td>\n",
       "      <td>9.55</td>\n",
       "      <td>9.50</td>\n",
       "      <td>Laptop</td>\n",
       "      <td>...</td>\n",
       "      <td>Agree</td>\n",
       "      <td>Agree</td>\n",
       "      <td>Strongly Agree</td>\n",
       "      <td>Uncertain</td>\n",
       "      <td>Agree</td>\n",
       "      <td>Uncertain</td>\n",
       "      <td>&gt;9.0</td>\n",
       "      <td>9.525</td>\n",
       "      <td>8.660</td>\n",
       "      <td>9.0925</td>\n",
       "    </tr>\n",
       "    <tr>\n",
       "      <th>3</th>\n",
       "      <td>2032004</td>\n",
       "      <td>DINESH KUMAR   P</td>\n",
       "      <td>SS</td>\n",
       "      <td>Male</td>\n",
       "      <td>20</td>\n",
       "      <td>8.38</td>\n",
       "      <td>8.45</td>\n",
       "      <td>8.57</td>\n",
       "      <td>8.77</td>\n",
       "      <td>Phone</td>\n",
       "      <td>...</td>\n",
       "      <td>Strongly Agree</td>\n",
       "      <td>Strongly Agree</td>\n",
       "      <td>Strongly Agree</td>\n",
       "      <td>Strongly Agree</td>\n",
       "      <td>Strongly Agree</td>\n",
       "      <td>Strongly Agree</td>\n",
       "      <td>&gt;8.5</td>\n",
       "      <td>8.670</td>\n",
       "      <td>8.415</td>\n",
       "      <td>8.5425</td>\n",
       "    </tr>\n",
       "    <tr>\n",
       "      <th>4</th>\n",
       "      <td>2032005</td>\n",
       "      <td>DIVYA   I</td>\n",
       "      <td>SS</td>\n",
       "      <td>Female</td>\n",
       "      <td>19</td>\n",
       "      <td>8.08</td>\n",
       "      <td>8.48</td>\n",
       "      <td>8.77</td>\n",
       "      <td>8.64</td>\n",
       "      <td>Laptop</td>\n",
       "      <td>...</td>\n",
       "      <td>Agree</td>\n",
       "      <td>Agree</td>\n",
       "      <td>Uncertain</td>\n",
       "      <td>Uncertain</td>\n",
       "      <td>Agree</td>\n",
       "      <td>Uncertain</td>\n",
       "      <td>&gt;8.5</td>\n",
       "      <td>8.705</td>\n",
       "      <td>8.280</td>\n",
       "      <td>8.4925</td>\n",
       "    </tr>\n",
       "    <tr>\n",
       "      <th>...</th>\n",
       "      <td>...</td>\n",
       "      <td>...</td>\n",
       "      <td>...</td>\n",
       "      <td>...</td>\n",
       "      <td>...</td>\n",
       "      <td>...</td>\n",
       "      <td>...</td>\n",
       "      <td>...</td>\n",
       "      <td>...</td>\n",
       "      <td>...</td>\n",
       "      <td>...</td>\n",
       "      <td>...</td>\n",
       "      <td>...</td>\n",
       "      <td>...</td>\n",
       "      <td>...</td>\n",
       "      <td>...</td>\n",
       "      <td>...</td>\n",
       "      <td>...</td>\n",
       "      <td>...</td>\n",
       "      <td>...</td>\n",
       "      <td>...</td>\n",
       "    </tr>\n",
       "    <tr>\n",
       "      <th>162</th>\n",
       "      <td>2032163</td>\n",
       "      <td>CHANDNI   N</td>\n",
       "      <td>AI &amp; ML</td>\n",
       "      <td>Male</td>\n",
       "      <td>20</td>\n",
       "      <td>7.09</td>\n",
       "      <td>8.52</td>\n",
       "      <td>8.36</td>\n",
       "      <td>8.14</td>\n",
       "      <td>Laptop</td>\n",
       "      <td>...</td>\n",
       "      <td>Agree</td>\n",
       "      <td>Agree</td>\n",
       "      <td>Agree</td>\n",
       "      <td>Agree</td>\n",
       "      <td>Agree</td>\n",
       "      <td>Agree</td>\n",
       "      <td>&gt;8.0</td>\n",
       "      <td>8.250</td>\n",
       "      <td>7.805</td>\n",
       "      <td>8.0275</td>\n",
       "    </tr>\n",
       "    <tr>\n",
       "      <th>163</th>\n",
       "      <td>2032164</td>\n",
       "      <td>CHARU   R</td>\n",
       "      <td>AI &amp; ML</td>\n",
       "      <td>Male</td>\n",
       "      <td>21</td>\n",
       "      <td>6.91</td>\n",
       "      <td>8.24</td>\n",
       "      <td>8.55</td>\n",
       "      <td>8.10</td>\n",
       "      <td>Laptop</td>\n",
       "      <td>...</td>\n",
       "      <td>Strongly Agree</td>\n",
       "      <td>Strongly Agree</td>\n",
       "      <td>Strongly Agree</td>\n",
       "      <td>Strongly Agree</td>\n",
       "      <td>Strongly Agree</td>\n",
       "      <td>Strongly Disagree</td>\n",
       "      <td>&gt;8.0</td>\n",
       "      <td>8.325</td>\n",
       "      <td>7.575</td>\n",
       "      <td>7.9500</td>\n",
       "    </tr>\n",
       "    <tr>\n",
       "      <th>164</th>\n",
       "      <td>2032165</td>\n",
       "      <td>DEEYA KUMARI   N</td>\n",
       "      <td>AI &amp; ML</td>\n",
       "      <td>Female</td>\n",
       "      <td>19</td>\n",
       "      <td>7.05</td>\n",
       "      <td>8.71</td>\n",
       "      <td>8.05</td>\n",
       "      <td>8.10</td>\n",
       "      <td>Phone</td>\n",
       "      <td>...</td>\n",
       "      <td>Strongly Agree</td>\n",
       "      <td>Strongly Agree</td>\n",
       "      <td>Strongly Agree</td>\n",
       "      <td>Strongly Agree</td>\n",
       "      <td>Strongly Agree</td>\n",
       "      <td>Strongly Disagree</td>\n",
       "      <td>&gt;8.0</td>\n",
       "      <td>8.075</td>\n",
       "      <td>7.880</td>\n",
       "      <td>7.9775</td>\n",
       "    </tr>\n",
       "    <tr>\n",
       "      <th>165</th>\n",
       "      <td>2032166</td>\n",
       "      <td>DHARAM SINGH   V</td>\n",
       "      <td>AI &amp; ML</td>\n",
       "      <td>Female</td>\n",
       "      <td>20</td>\n",
       "      <td>7.18</td>\n",
       "      <td>8.62</td>\n",
       "      <td>9.05</td>\n",
       "      <td>8.14</td>\n",
       "      <td>Phone</td>\n",
       "      <td>...</td>\n",
       "      <td>Strongly Agree</td>\n",
       "      <td>Strongly Agree</td>\n",
       "      <td>Agree</td>\n",
       "      <td>Strongly Agree</td>\n",
       "      <td>Strongly Agree</td>\n",
       "      <td>Agree</td>\n",
       "      <td>&gt;8.0</td>\n",
       "      <td>8.595</td>\n",
       "      <td>7.900</td>\n",
       "      <td>8.2475</td>\n",
       "    </tr>\n",
       "    <tr>\n",
       "      <th>166</th>\n",
       "      <td>2032167</td>\n",
       "      <td>DIPENDRA KUMAR   P</td>\n",
       "      <td>AI &amp; ML</td>\n",
       "      <td>Female</td>\n",
       "      <td>19</td>\n",
       "      <td>7.45</td>\n",
       "      <td>8.81</td>\n",
       "      <td>8.86</td>\n",
       "      <td>8.62</td>\n",
       "      <td>Phone</td>\n",
       "      <td>...</td>\n",
       "      <td>Strongly Agree</td>\n",
       "      <td>Strongly Agree</td>\n",
       "      <td>Strongly Agree</td>\n",
       "      <td>Strongly Agree</td>\n",
       "      <td>Strongly Agree</td>\n",
       "      <td>Strongly Agree</td>\n",
       "      <td>&gt;8.5</td>\n",
       "      <td>8.740</td>\n",
       "      <td>8.130</td>\n",
       "      <td>8.4350</td>\n",
       "    </tr>\n",
       "  </tbody>\n",
       "</table>\n",
       "<p>167 rows × 21 columns</p>\n",
       "</div>"
      ],
      "text/plain": [
       "     Roll number                Name Department  Gender  Age  sem4_marks   \\\n",
       "0        2032001    AJAY NARAYAN   P         SS    Male   19         8.70   \n",
       "1        2032002            AMAN   M         SS    Male   19         7.58   \n",
       "2        2032003     ASMA KHATUN   P         SS  Female   20         8.75   \n",
       "3        2032004    DINESH KUMAR   P         SS    Male   20         8.38   \n",
       "4        2032005           DIVYA   I         SS  Female   19         8.08   \n",
       "..           ...                 ...        ...     ...  ...          ...   \n",
       "162      2032163         CHANDNI   N    AI & ML    Male   20         7.09   \n",
       "163      2032164           CHARU   R    AI & ML    Male   21         6.91   \n",
       "164      2032165    DEEYA KUMARI   N    AI & ML  Female   19         7.05   \n",
       "165      2032166    DHARAM SINGH   V    AI & ML  Female   20         7.18   \n",
       "166      2032167  DIPENDRA KUMAR   P    AI & ML  Female   19         7.45   \n",
       "\n",
       "     sem3_marks   sem2_marks   sem1_marks   \\\n",
       "0           7.90         9.10         8.90   \n",
       "1           7.70         9.09         8.73   \n",
       "2           8.57         9.55         9.50   \n",
       "3           8.45         8.57         8.77   \n",
       "4           8.48         8.77         8.64   \n",
       "..           ...          ...          ...   \n",
       "162         8.52         8.36         8.14   \n",
       "163         8.24         8.55         8.10   \n",
       "164         8.71         8.05         8.10   \n",
       "165         8.62         9.05         8.14   \n",
       "166         8.81         8.86         8.62   \n",
       "\n",
       "    Which device you use more frequently  ... Online makes you lazy  \\\n",
       "0                                 Laptop  ...                 Agree   \n",
       "1                                 Laptop  ...                 Agree   \n",
       "2                                 Laptop  ...                 Agree   \n",
       "3                                  Phone  ...        Strongly Agree   \n",
       "4                                 Laptop  ...                 Agree   \n",
       "..                                   ...  ...                   ...   \n",
       "162                               Laptop  ...                 Agree   \n",
       "163                               Laptop  ...        Strongly Agree   \n",
       "164                                Phone  ...        Strongly Agree   \n",
       "165                                Phone  ...        Strongly Agree   \n",
       "166                                Phone  ...        Strongly Agree   \n",
       "\n",
       "    Use Electronic device for long time make tension  \\\n",
       "0                                          Uncertain   \n",
       "1                                  Strongly Disagree   \n",
       "2                                              Agree   \n",
       "3                                     Strongly Agree   \n",
       "4                                              Agree   \n",
       "..                                               ...   \n",
       "162                                            Agree   \n",
       "163                                   Strongly Agree   \n",
       "164                                   Strongly Agree   \n",
       "165                                   Strongly Agree   \n",
       "166                                   Strongly Agree   \n",
       "\n",
       "    Online mode is preferable for Scoring good marks in exam   \\\n",
       "0                                       Strongly Agree          \n",
       "1                                                Agree          \n",
       "2                                       Strongly Agree          \n",
       "3                                       Strongly Agree          \n",
       "4                                            Uncertain          \n",
       "..                                                 ...          \n",
       "162                                              Agree          \n",
       "163                                     Strongly Agree          \n",
       "164                                     Strongly Agree          \n",
       "165                                              Agree          \n",
       "166                                     Strongly Agree          \n",
       "\n",
       "    Work is more in online than offline  \\\n",
       "0                              Disagree   \n",
       "1                                 Agree   \n",
       "2                             Uncertain   \n",
       "3                        Strongly Agree   \n",
       "4                             Uncertain   \n",
       "..                                  ...   \n",
       "162                               Agree   \n",
       "163                      Strongly Agree   \n",
       "164                      Strongly Agree   \n",
       "165                      Strongly Agree   \n",
       "166                      Strongly Agree   \n",
       "\n",
       "    To motivate student offline mode is preferrable  \\\n",
       "0                                             Agree   \n",
       "1                                             Agree   \n",
       "2                                             Agree   \n",
       "3                                    Strongly Agree   \n",
       "4                                             Agree   \n",
       "..                                              ...   \n",
       "162                                           Agree   \n",
       "163                                  Strongly Agree   \n",
       "164                                  Strongly Agree   \n",
       "165                                  Strongly Agree   \n",
       "166                                  Strongly Agree   \n",
       "\n",
       "    Exam in online has both advantages and dis advantages grade_sep  \\\n",
       "0                                    Strongly Disagree         >8.5   \n",
       "1                                                Agree         >8.5   \n",
       "2                                            Uncertain         >9.0   \n",
       "3                                       Strongly Agree         >8.5   \n",
       "4                                            Uncertain         >8.5   \n",
       "..                                                 ...          ...   \n",
       "162                                              Agree         >8.0   \n",
       "163                                  Strongly Disagree         >8.0   \n",
       "164                                  Strongly Disagree         >8.0   \n",
       "165                                              Agree         >8.0   \n",
       "166                                     Strongly Agree         >8.5   \n",
       "\n",
       "    offline_avg  online_avg     avg  \n",
       "0         9.000       8.300  8.6500  \n",
       "1         8.910       7.640  8.2750  \n",
       "2         9.525       8.660  9.0925  \n",
       "3         8.670       8.415  8.5425  \n",
       "4         8.705       8.280  8.4925  \n",
       "..          ...         ...     ...  \n",
       "162       8.250       7.805  8.0275  \n",
       "163       8.325       7.575  7.9500  \n",
       "164       8.075       7.880  7.9775  \n",
       "165       8.595       7.900  8.2475  \n",
       "166       8.740       8.130  8.4350  \n",
       "\n",
       "[167 rows x 21 columns]"
      ]
     },
     "execution_count": 27,
     "metadata": {},
     "output_type": "execute_result"
    }
   ],
   "source": [
    "df"
   ]
  },
  {
   "cell_type": "code",
   "execution_count": 28,
   "metadata": {
    "id": "0NWfC4AWkCGN"
   },
   "outputs": [],
   "source": [
    "#Counting student, Those who have online_avg > offline_avg\n",
    "yes,no,l=[],[],[]\n",
    "for i in range(len(df['Name'])):\n",
    "    if(df['offline_avg'][i]>df['online_avg'][i]):\n",
    "        yes.append(df['Name'][i])\n",
    "        l.append('YES')\n",
    "    else:\n",
    "        no.append(df['Name'][i])\n",
    "        l.append('NO')\n",
    "        \n",
    "#Adding to dataframe\n",
    "df['Online_score_is_greater']= l"
   ]
  },
  {
   "cell_type": "code",
   "execution_count": 29,
   "metadata": {
    "colab": {
     "base_uri": "https://localhost:8080/"
    },
    "id": "zinxAjVukGup",
    "outputId": "1a9a3731-74a6-4e5e-e858-ad3716ef09b9"
   },
   "outputs": [
    {
     "data": {
      "text/plain": [
       "YES    151\n",
       "NO      16\n",
       "Name: Online_score_is_greater, dtype: int64"
      ]
     },
     "execution_count": 29,
     "metadata": {},
     "output_type": "execute_result"
    }
   ],
   "source": [
    "#Counting student, Those who have online_avg > offline_avg\n",
    "df['Online_score_is_greater'].value_counts()"
   ]
  },
  {
   "cell_type": "code",
   "execution_count": 30,
   "metadata": {
    "colab": {
     "base_uri": "https://localhost:8080/"
    },
    "id": "AZUc9CGpkLtj",
    "outputId": "1c385e3a-13af-453d-f511-a4eca7331c25"
   },
   "outputs": [
    {
     "name": "stdout",
     "output_type": "stream",
     "text": [
      "student, Those who have online_avg > offline_avg 151\n",
      "student, Those who have online_avg < offline_avg 16\n"
     ]
    }
   ],
   "source": [
    "print('student, Those who have online_avg > offline_avg',len(yes))\n",
    "print('student, Those who have online_avg < offline_avg',len(no))"
   ]
  },
  {
   "cell_type": "code",
   "execution_count": 31,
   "metadata": {
    "colab": {
     "base_uri": "https://localhost:8080/",
     "height": 301
    },
    "id": "YXY64mpSkRx1",
    "outputId": "a98ad871-08d3-4a32-efe1-553145a4eedb"
   },
   "outputs": [
    {
     "data": {
      "image/png": "[encoded data removed]",
      "text/plain": [
       "<Figure size 640x480 with 1 Axes>"
      ]
     },
     "metadata": {},
     "output_type": "display_data"
    }
   ],
   "source": [
    "# Online vs offline graph\n",
    "sn.set(style='whitegrid')\n",
    "ax=sn.barplot(x=df['Online_score_is_greater'].value_counts().index,y=df['Online_score_is_greater'].value_counts().values,palette=\"Blues_d\",hue=['YES','NO'])\n",
    "plt.legend(loc=8)\n",
    "plt.xlabel('Average_Online_Score_is_Greater')\n",
    "plt.ylabel('No. of Student')\n",
    "plt.title('Student having Online Average Score more than offline Scores')\n",
    "plt.show()"
   ]
  },
  {
   "cell_type": "code",
   "execution_count": 32,
   "metadata": {
    "id": "I39O5mTHkXeV"
   },
   "outputs": [],
   "source": [
    "#Checking How much percentage improvement is done\n",
    "per=[]\n",
    "for i in range(len(df['Name'])):\n",
    "    per.append(abs(df['online_avg'][i]-df['offline_avg'][i])*10)\n",
    "df['Percentge_difference_in_both_modes']=per"
   ]
  },
  {
   "cell_type": "code",
   "execution_count": 33,
   "metadata": {
    "colab": {
     "base_uri": "https://localhost:8080/",
     "height": 600
    },
    "id": "HMeQnG6tkcDb",
    "outputId": "3361fc9a-d3c2-4bb6-a3f9-e7e10cab3255"
   },
   "outputs": [
    {
     "data": {
      "text/html": [
       "<div>\n",
       "<style scoped>\n",
       "    .dataframe tbody tr th:only-of-type {\n",
       "        vertical-align: middle;\n",
       "    }\n",
       "\n",
       "    .dataframe tbody tr th {\n",
       "        vertical-align: top;\n",
       "    }\n",
       "\n",
       "    .dataframe thead th {\n",
       "        text-align: right;\n",
       "    }\n",
       "</style>\n",
       "<table border=\"1\" class=\"dataframe\">\n",
       "  <thead>\n",
       "    <tr style=\"text-align: right;\">\n",
       "      <th></th>\n",
       "      <th>Roll number</th>\n",
       "      <th>Name</th>\n",
       "      <th>Department</th>\n",
       "      <th>Gender</th>\n",
       "      <th>Age</th>\n",
       "      <th>sem4_marks</th>\n",
       "      <th>sem3_marks</th>\n",
       "      <th>sem2_marks</th>\n",
       "      <th>sem1_marks</th>\n",
       "      <th>Which device you use more frequently</th>\n",
       "      <th>...</th>\n",
       "      <th>Online mode is preferable for Scoring good marks in exam</th>\n",
       "      <th>Work is more in online than offline</th>\n",
       "      <th>To motivate student offline mode is preferrable</th>\n",
       "      <th>Exam in online has both advantages and dis advantages</th>\n",
       "      <th>grade_sep</th>\n",
       "      <th>offline_avg</th>\n",
       "      <th>online_avg</th>\n",
       "      <th>avg</th>\n",
       "      <th>Online_score_is_greater</th>\n",
       "      <th>Percentge_difference_in_both_modes</th>\n",
       "    </tr>\n",
       "  </thead>\n",
       "  <tbody>\n",
       "    <tr>\n",
       "      <th>0</th>\n",
       "      <td>2032001</td>\n",
       "      <td>AJAY NARAYAN   P</td>\n",
       "      <td>SS</td>\n",
       "      <td>Male</td>\n",
       "      <td>19</td>\n",
       "      <td>8.70</td>\n",
       "      <td>7.90</td>\n",
       "      <td>9.10</td>\n",
       "      <td>8.90</td>\n",
       "      <td>Laptop</td>\n",
       "      <td>...</td>\n",
       "      <td>Strongly Agree</td>\n",
       "      <td>Disagree</td>\n",
       "      <td>Agree</td>\n",
       "      <td>Strongly Disagree</td>\n",
       "      <td>&gt;8.5</td>\n",
       "      <td>9.000</td>\n",
       "      <td>8.300</td>\n",
       "      <td>8.6500</td>\n",
       "      <td>YES</td>\n",
       "      <td>7.00</td>\n",
       "    </tr>\n",
       "    <tr>\n",
       "      <th>1</th>\n",
       "      <td>2032002</td>\n",
       "      <td>AMAN   M</td>\n",
       "      <td>SS</td>\n",
       "      <td>Male</td>\n",
       "      <td>19</td>\n",
       "      <td>7.58</td>\n",
       "      <td>7.70</td>\n",
       "      <td>9.09</td>\n",
       "      <td>8.73</td>\n",
       "      <td>Laptop</td>\n",
       "      <td>...</td>\n",
       "      <td>Agree</td>\n",
       "      <td>Agree</td>\n",
       "      <td>Agree</td>\n",
       "      <td>Agree</td>\n",
       "      <td>&gt;8.5</td>\n",
       "      <td>8.910</td>\n",
       "      <td>7.640</td>\n",
       "      <td>8.2750</td>\n",
       "      <td>YES</td>\n",
       "      <td>12.70</td>\n",
       "    </tr>\n",
       "    <tr>\n",
       "      <th>2</th>\n",
       "      <td>2032003</td>\n",
       "      <td>ASMA KHATUN   P</td>\n",
       "      <td>SS</td>\n",
       "      <td>Female</td>\n",
       "      <td>20</td>\n",
       "      <td>8.75</td>\n",
       "      <td>8.57</td>\n",
       "      <td>9.55</td>\n",
       "      <td>9.50</td>\n",
       "      <td>Laptop</td>\n",
       "      <td>...</td>\n",
       "      <td>Strongly Agree</td>\n",
       "      <td>Uncertain</td>\n",
       "      <td>Agree</td>\n",
       "      <td>Uncertain</td>\n",
       "      <td>&gt;9.0</td>\n",
       "      <td>9.525</td>\n",
       "      <td>8.660</td>\n",
       "      <td>9.0925</td>\n",
       "      <td>YES</td>\n",
       "      <td>8.65</td>\n",
       "    </tr>\n",
       "    <tr>\n",
       "      <th>3</th>\n",
       "      <td>2032004</td>\n",
       "      <td>DINESH KUMAR   P</td>\n",
       "      <td>SS</td>\n",
       "      <td>Male</td>\n",
       "      <td>20</td>\n",
       "      <td>8.38</td>\n",
       "      <td>8.45</td>\n",
       "      <td>8.57</td>\n",
       "      <td>8.77</td>\n",
       "      <td>Phone</td>\n",
       "      <td>...</td>\n",
       "      <td>Strongly Agree</td>\n",
       "      <td>Strongly Agree</td>\n",
       "      <td>Strongly Agree</td>\n",
       "      <td>Strongly Agree</td>\n",
       "      <td>&gt;8.5</td>\n",
       "      <td>8.670</td>\n",
       "      <td>8.415</td>\n",
       "      <td>8.5425</td>\n",
       "      <td>YES</td>\n",
       "      <td>2.55</td>\n",
       "    </tr>\n",
       "    <tr>\n",
       "      <th>4</th>\n",
       "      <td>2032005</td>\n",
       "      <td>DIVYA   I</td>\n",
       "      <td>SS</td>\n",
       "      <td>Female</td>\n",
       "      <td>19</td>\n",
       "      <td>8.08</td>\n",
       "      <td>8.48</td>\n",
       "      <td>8.77</td>\n",
       "      <td>8.64</td>\n",
       "      <td>Laptop</td>\n",
       "      <td>...</td>\n",
       "      <td>Uncertain</td>\n",
       "      <td>Uncertain</td>\n",
       "      <td>Agree</td>\n",
       "      <td>Uncertain</td>\n",
       "      <td>&gt;8.5</td>\n",
       "      <td>8.705</td>\n",
       "      <td>8.280</td>\n",
       "      <td>8.4925</td>\n",
       "      <td>YES</td>\n",
       "      <td>4.25</td>\n",
       "    </tr>\n",
       "  </tbody>\n",
       "</table>\n",
       "<p>5 rows × 23 columns</p>\n",
       "</div>"
      ],
      "text/plain": [
       "   Roll number              Name Department  Gender  Age  sem4_marks   \\\n",
       "0      2032001  AJAY NARAYAN   P         SS    Male   19         8.70   \n",
       "1      2032002          AMAN   M         SS    Male   19         7.58   \n",
       "2      2032003   ASMA KHATUN   P         SS  Female   20         8.75   \n",
       "3      2032004  DINESH KUMAR   P         SS    Male   20         8.38   \n",
       "4      2032005         DIVYA   I         SS  Female   19         8.08   \n",
       "\n",
       "   sem3_marks   sem2_marks   sem1_marks  Which device you use more frequently  \\\n",
       "0         7.90         9.10         8.90                               Laptop   \n",
       "1         7.70         9.09         8.73                               Laptop   \n",
       "2         8.57         9.55         9.50                               Laptop   \n",
       "3         8.45         8.57         8.77                                Phone   \n",
       "4         8.48         8.77         8.64                               Laptop   \n",
       "\n",
       "   ... Online mode is preferable for Scoring good marks in exam   \\\n",
       "0  ...                                     Strongly Agree          \n",
       "1  ...                                              Agree          \n",
       "2  ...                                     Strongly Agree          \n",
       "3  ...                                     Strongly Agree          \n",
       "4  ...                                          Uncertain          \n",
       "\n",
       "  Work is more in online than offline  \\\n",
       "0                            Disagree   \n",
       "1                               Agree   \n",
       "2                           Uncertain   \n",
       "3                      Strongly Agree   \n",
       "4                           Uncertain   \n",
       "\n",
       "  To motivate student offline mode is preferrable  \\\n",
       "0                                           Agree   \n",
       "1                                           Agree   \n",
       "2                                           Agree   \n",
       "3                                  Strongly Agree   \n",
       "4                                           Agree   \n",
       "\n",
       "  Exam in online has both advantages and dis advantages grade_sep offline_avg  \\\n",
       "0                                  Strongly Disagree         >8.5       9.000   \n",
       "1                                              Agree         >8.5       8.910   \n",
       "2                                          Uncertain         >9.0       9.525   \n",
       "3                                     Strongly Agree         >8.5       8.670   \n",
       "4                                          Uncertain         >8.5       8.705   \n",
       "\n",
       "  online_avg     avg  Online_score_is_greater  \\\n",
       "0      8.300  8.6500                      YES   \n",
       "1      7.640  8.2750                      YES   \n",
       "2      8.660  9.0925                      YES   \n",
       "3      8.415  8.5425                      YES   \n",
       "4      8.280  8.4925                      YES   \n",
       "\n",
       "   Percentge_difference_in_both_modes  \n",
       "0                                7.00  \n",
       "1                               12.70  \n",
       "2                                8.65  \n",
       "3                                2.55  \n",
       "4                                4.25  \n",
       "\n",
       "[5 rows x 23 columns]"
      ]
     },
     "execution_count": 33,
     "metadata": {},
     "output_type": "execute_result"
    }
   ],
   "source": [
    "df.head()"
   ]
  },
  {
   "cell_type": "code",
   "execution_count": 34,
   "metadata": {
    "id": "PTsxO_yMkfNk"
   },
   "outputs": [],
   "source": [
    "cc=0\n",
    "for i in range(len(df['Name'])):\n",
    "    if(df['Online_score_is_greater'][i]=='YES' and df['Percentge_difference_in_both_modes'][i]>=10):\n",
    "        cc=cc+1"
   ]
  },
  {
   "cell_type": "code",
   "execution_count": 35,
   "metadata": {
    "colab": {
     "base_uri": "https://localhost:8080/"
    },
    "id": "tX7xPpiYkvxD",
    "outputId": "c67a01b9-e09f-4e93-fb7e-9638713a702e"
   },
   "outputs": [
    {
     "name": "stdout",
     "output_type": "stream",
     "text": [
      "The number of student, whose percentage difference in both mode is greater than 10% is  42\n"
     ]
    }
   ],
   "source": [
    "print('The number of student, whose percentage difference in both mode is greater than 10% is ',cc)"
   ]
  },
  {
   "cell_type": "code",
   "execution_count": 36,
   "metadata": {
    "colab": {
     "base_uri": "https://localhost:8080/"
    },
    "id": "MEOqzQBamJGj",
    "outputId": "38ace399-041b-482c-b3fa-7db5efae7cb4"
   },
   "outputs": [
    {
     "name": "stdout",
     "output_type": "stream",
     "text": [
      "24.0 % of Student got more marks in both the mode.\n"
     ]
    }
   ],
   "source": [
    "print((36/150)*100,'% of Student got more marks in both the mode.')"
   ]
  },
  {
   "cell_type": "code",
   "execution_count": 37,
   "metadata": {
    "colab": {
     "base_uri": "https://localhost:8080/",
     "height": 302
    },
    "id": "uab0wnQcmwEH",
    "outputId": "c5d41eff-4261-4843-db80-1574325e0d63"
   },
   "outputs": [
    {
     "name": "stdout",
     "output_type": "stream",
     "text": [
      "True\n"
     ]
    },
    {
     "data": {
      "image/png": "[encoded data removed]",
      "text/plain": [
       "<Figure size 640x480 with 1 Axes>"
      ]
     },
     "metadata": {},
     "output_type": "display_data"
    }
   ],
   "source": [
    "# Plotting the graph between online and offline mode exam\n",
    "ax1 = df.plot(kind='scatter', x='sem1_marks ', y='sem1_marks ', color='r')    \n",
    "ax2 = df.plot(kind='scatter', x='sem2_marks ', y='sem1_marks ', color='g', ax=ax1)    \n",
    "ax3 = df.plot(kind='scatter', x='sem3_marks ', y='sem1_marks ', color='b', ax=ax1)\n",
    "ax4 = df.plot(kind='scatter', x='sem4_marks ', y='sem1_marks ', color='y', ax=ax1)\n",
    "print(ax1 == ax2 == ax3 == ax4) "
   ]
  },
  {
   "cell_type": "code",
   "execution_count": 38,
   "metadata": {
    "id": "SvffVJk3nCRn"
   },
   "outputs": [],
   "source": [
    "df=pd.read_csv('C:/Users/New/Downloads/Final Projects/Student_Performance_Analysis/studentdata.csv')"
   ]
  },
  {
   "cell_type": "code",
   "execution_count": 39,
   "metadata": {
    "id": "3XGDpBoDm45j"
   },
   "outputs": [],
   "source": [
    "#Coverting Float value is multiplyed 100...to int. \n",
    "df['sem1_marks '] = (100*df['sem1_marks ']).astype(float).astype(int)\n",
    "df['sem2_marks '] = (100*df['sem2_marks ']).astype(float).astype(int)\n",
    "df['sem3_marks '] = (100*df['sem3_marks ']).astype(float).astype(int)\n",
    "df['sem4_marks '] = (100*df['sem4_marks ']).astype(float).astype(int)"
   ]
  },
  {
   "cell_type": "code",
   "execution_count": 40,
   "metadata": {
    "colab": {
     "base_uri": "https://localhost:8080/",
     "height": 600
    },
    "id": "yf1Wkoe1nZSv",
    "outputId": "69b21179-d54f-4c66-8210-f176530c120a"
   },
   "outputs": [
    {
     "data": {
      "text/html": [
       "<div>\n",
       "<style scoped>\n",
       "    .dataframe tbody tr th:only-of-type {\n",
       "        vertical-align: middle;\n",
       "    }\n",
       "\n",
       "    .dataframe tbody tr th {\n",
       "        vertical-align: top;\n",
       "    }\n",
       "\n",
       "    .dataframe thead th {\n",
       "        text-align: right;\n",
       "    }\n",
       "</style>\n",
       "<table border=\"1\" class=\"dataframe\">\n",
       "  <thead>\n",
       "    <tr style=\"text-align: right;\">\n",
       "      <th></th>\n",
       "      <th>Roll number</th>\n",
       "      <th>Name</th>\n",
       "      <th>Department</th>\n",
       "      <th>Gender</th>\n",
       "      <th>Age</th>\n",
       "      <th>sem4_marks</th>\n",
       "      <th>sem3_marks</th>\n",
       "      <th>sem2_marks</th>\n",
       "      <th>sem1_marks</th>\n",
       "      <th>Which device you use more frequently</th>\n",
       "      <th>Online mode is better then Offline</th>\n",
       "      <th>Online makes you lazy</th>\n",
       "      <th>Use Electronic device for long time make tension</th>\n",
       "      <th>Online mode is preferable for Scoring good marks in exam</th>\n",
       "      <th>Work is more in online than offline</th>\n",
       "      <th>To motivate student offline mode is preferrable</th>\n",
       "      <th>Exam in online has both advantages and dis advantages</th>\n",
       "    </tr>\n",
       "  </thead>\n",
       "  <tbody>\n",
       "    <tr>\n",
       "      <th>0</th>\n",
       "      <td>2032001</td>\n",
       "      <td>AJAY NARAYAN   P</td>\n",
       "      <td>SS</td>\n",
       "      <td>Male</td>\n",
       "      <td>19</td>\n",
       "      <td>869</td>\n",
       "      <td>790</td>\n",
       "      <td>910</td>\n",
       "      <td>890</td>\n",
       "      <td>Laptop</td>\n",
       "      <td>Agree</td>\n",
       "      <td>Agree</td>\n",
       "      <td>Uncertain</td>\n",
       "      <td>Strongly Agree</td>\n",
       "      <td>Disagree</td>\n",
       "      <td>Agree</td>\n",
       "      <td>Strongly Disagree</td>\n",
       "    </tr>\n",
       "    <tr>\n",
       "      <th>1</th>\n",
       "      <td>2032002</td>\n",
       "      <td>AMAN   M</td>\n",
       "      <td>SS</td>\n",
       "      <td>Male</td>\n",
       "      <td>19</td>\n",
       "      <td>758</td>\n",
       "      <td>770</td>\n",
       "      <td>909</td>\n",
       "      <td>873</td>\n",
       "      <td>Laptop</td>\n",
       "      <td>Agree</td>\n",
       "      <td>Agree</td>\n",
       "      <td>Strongly Disagree</td>\n",
       "      <td>Agree</td>\n",
       "      <td>Agree</td>\n",
       "      <td>Agree</td>\n",
       "      <td>Agree</td>\n",
       "    </tr>\n",
       "    <tr>\n",
       "      <th>2</th>\n",
       "      <td>2032003</td>\n",
       "      <td>ASMA KHATUN   P</td>\n",
       "      <td>SS</td>\n",
       "      <td>Female</td>\n",
       "      <td>20</td>\n",
       "      <td>875</td>\n",
       "      <td>857</td>\n",
       "      <td>955</td>\n",
       "      <td>950</td>\n",
       "      <td>Laptop</td>\n",
       "      <td>Strongly Agree</td>\n",
       "      <td>Agree</td>\n",
       "      <td>Agree</td>\n",
       "      <td>Strongly Agree</td>\n",
       "      <td>Uncertain</td>\n",
       "      <td>Agree</td>\n",
       "      <td>Uncertain</td>\n",
       "    </tr>\n",
       "    <tr>\n",
       "      <th>3</th>\n",
       "      <td>2032004</td>\n",
       "      <td>DINESH KUMAR   P</td>\n",
       "      <td>SS</td>\n",
       "      <td>Male</td>\n",
       "      <td>20</td>\n",
       "      <td>838</td>\n",
       "      <td>844</td>\n",
       "      <td>857</td>\n",
       "      <td>877</td>\n",
       "      <td>Phone</td>\n",
       "      <td>Strongly Agree</td>\n",
       "      <td>Strongly Agree</td>\n",
       "      <td>Strongly Agree</td>\n",
       "      <td>Strongly Agree</td>\n",
       "      <td>Strongly Agree</td>\n",
       "      <td>Strongly Agree</td>\n",
       "      <td>Strongly Agree</td>\n",
       "    </tr>\n",
       "    <tr>\n",
       "      <th>4</th>\n",
       "      <td>2032005</td>\n",
       "      <td>DIVYA   I</td>\n",
       "      <td>SS</td>\n",
       "      <td>Female</td>\n",
       "      <td>19</td>\n",
       "      <td>808</td>\n",
       "      <td>848</td>\n",
       "      <td>877</td>\n",
       "      <td>864</td>\n",
       "      <td>Laptop</td>\n",
       "      <td>Agree</td>\n",
       "      <td>Agree</td>\n",
       "      <td>Agree</td>\n",
       "      <td>Uncertain</td>\n",
       "      <td>Uncertain</td>\n",
       "      <td>Agree</td>\n",
       "      <td>Uncertain</td>\n",
       "    </tr>\n",
       "  </tbody>\n",
       "</table>\n",
       "</div>"
      ],
      "text/plain": [
       "   Roll number              Name Department  Gender  Age  sem4_marks   \\\n",
       "0      2032001  AJAY NARAYAN   P         SS    Male   19          869   \n",
       "1      2032002          AMAN   M         SS    Male   19          758   \n",
       "2      2032003   ASMA KHATUN   P         SS  Female   20          875   \n",
       "3      2032004  DINESH KUMAR   P         SS    Male   20          838   \n",
       "4      2032005         DIVYA   I         SS  Female   19          808   \n",
       "\n",
       "   sem3_marks   sem2_marks   sem1_marks  Which device you use more frequently  \\\n",
       "0          790          910          890                               Laptop   \n",
       "1          770          909          873                               Laptop   \n",
       "2          857          955          950                               Laptop   \n",
       "3          844          857          877                                Phone   \n",
       "4          848          877          864                               Laptop   \n",
       "\n",
       "  Online mode is better then Offline Online makes you lazy  \\\n",
       "0                              Agree                 Agree   \n",
       "1                              Agree                 Agree   \n",
       "2                     Strongly Agree                 Agree   \n",
       "3                     Strongly Agree        Strongly Agree   \n",
       "4                              Agree                 Agree   \n",
       "\n",
       "  Use Electronic device for long time make tension  \\\n",
       "0                                        Uncertain   \n",
       "1                                Strongly Disagree   \n",
       "2                                            Agree   \n",
       "3                                   Strongly Agree   \n",
       "4                                            Agree   \n",
       "\n",
       "  Online mode is preferable for Scoring good marks in exam   \\\n",
       "0                                     Strongly Agree          \n",
       "1                                              Agree          \n",
       "2                                     Strongly Agree          \n",
       "3                                     Strongly Agree          \n",
       "4                                          Uncertain          \n",
       "\n",
       "  Work is more in online than offline  \\\n",
       "0                            Disagree   \n",
       "1                               Agree   \n",
       "2                           Uncertain   \n",
       "3                      Strongly Agree   \n",
       "4                           Uncertain   \n",
       "\n",
       "  To motivate student offline mode is preferrable  \\\n",
       "0                                           Agree   \n",
       "1                                           Agree   \n",
       "2                                           Agree   \n",
       "3                                  Strongly Agree   \n",
       "4                                           Agree   \n",
       "\n",
       "  Exam in online has both advantages and dis advantages  \n",
       "0                                  Strongly Disagree     \n",
       "1                                              Agree     \n",
       "2                                          Uncertain     \n",
       "3                                     Strongly Agree     \n",
       "4                                          Uncertain     "
      ]
     },
     "execution_count": 40,
     "metadata": {},
     "output_type": "execute_result"
    }
   ],
   "source": [
    "df.head()"
   ]
  },
  {
   "cell_type": "code",
   "execution_count": 41,
   "metadata": {
    "id": "of9P4_9EniIg"
   },
   "outputs": [],
   "source": [
    "l=list(df.columns)"
   ]
  },
  {
   "cell_type": "code",
   "execution_count": 42,
   "metadata": {
    "colab": {
     "base_uri": "https://localhost:8080/",
     "height": 35
    },
    "id": "quQYdeW8E7v4",
    "outputId": "996ee4aa-8e54-45f9-cf48-3af0c8502b16"
   },
   "outputs": [
    {
     "data": {
      "text/plain": [
       "'Exam in online has both advantages and dis advantages'"
      ]
     },
     "execution_count": 42,
     "metadata": {},
     "output_type": "execute_result"
    }
   ],
   "source": [
    "l[16]"
   ]
  },
  {
   "cell_type": "code",
   "execution_count": 43,
   "metadata": {
    "id": "NL7es2_WE7v5"
   },
   "outputs": [],
   "source": [
    "# Label Encoding\n",
    "from sklearn import preprocessing\n",
    "label_encoder = preprocessing.LabelEncoder()\n",
    " \n",
    "df['Gender']= label_encoder.fit_transform(df['Gender'])\n",
    "df['Department']= label_encoder.fit_transform(df['Department'])\n",
    "df['Age']= label_encoder.fit_transform(df['Age'])    \n",
    "    \n",
    "l=list(df.columns)\n",
    "\n",
    "for i in range(9,17):\n",
    "    df[l[i]] = label_encoder.fit_transform(df[l[i]])"
   ]
  },
  {
   "cell_type": "code",
   "execution_count": 44,
   "metadata": {
    "colab": {
     "base_uri": "https://localhost:8080/",
     "height": 513
    },
    "id": "I4y9pGiLnupC",
    "outputId": "5bd7afea-4f54-4618-d6e2-18c1c98cd5b0"
   },
   "outputs": [
    {
     "data": {
      "text/html": [
       "<div>\n",
       "<style scoped>\n",
       "    .dataframe tbody tr th:only-of-type {\n",
       "        vertical-align: middle;\n",
       "    }\n",
       "\n",
       "    .dataframe tbody tr th {\n",
       "        vertical-align: top;\n",
       "    }\n",
       "\n",
       "    .dataframe thead th {\n",
       "        text-align: right;\n",
       "    }\n",
       "</style>\n",
       "<table border=\"1\" class=\"dataframe\">\n",
       "  <thead>\n",
       "    <tr style=\"text-align: right;\">\n",
       "      <th></th>\n",
       "      <th>Roll number</th>\n",
       "      <th>Name</th>\n",
       "      <th>Department</th>\n",
       "      <th>Gender</th>\n",
       "      <th>Age</th>\n",
       "      <th>sem4_marks</th>\n",
       "      <th>sem3_marks</th>\n",
       "      <th>sem2_marks</th>\n",
       "      <th>sem1_marks</th>\n",
       "      <th>Which device you use more frequently</th>\n",
       "      <th>Online mode is better then Offline</th>\n",
       "      <th>Online makes you lazy</th>\n",
       "      <th>Use Electronic device for long time make tension</th>\n",
       "      <th>Online mode is preferable for Scoring good marks in exam</th>\n",
       "      <th>Work is more in online than offline</th>\n",
       "      <th>To motivate student offline mode is preferrable</th>\n",
       "      <th>Exam in online has both advantages and dis advantages</th>\n",
       "    </tr>\n",
       "  </thead>\n",
       "  <tbody>\n",
       "    <tr>\n",
       "      <th>0</th>\n",
       "      <td>2032001</td>\n",
       "      <td>AJAY NARAYAN   P</td>\n",
       "      <td>3</td>\n",
       "      <td>1</td>\n",
       "      <td>1</td>\n",
       "      <td>869</td>\n",
       "      <td>790</td>\n",
       "      <td>910</td>\n",
       "      <td>890</td>\n",
       "      <td>0</td>\n",
       "      <td>0</td>\n",
       "      <td>0</td>\n",
       "      <td>4</td>\n",
       "      <td>2</td>\n",
       "      <td>1</td>\n",
       "      <td>0</td>\n",
       "      <td>3</td>\n",
       "    </tr>\n",
       "    <tr>\n",
       "      <th>1</th>\n",
       "      <td>2032002</td>\n",
       "      <td>AMAN   M</td>\n",
       "      <td>3</td>\n",
       "      <td>1</td>\n",
       "      <td>1</td>\n",
       "      <td>758</td>\n",
       "      <td>770</td>\n",
       "      <td>909</td>\n",
       "      <td>873</td>\n",
       "      <td>0</td>\n",
       "      <td>0</td>\n",
       "      <td>0</td>\n",
       "      <td>3</td>\n",
       "      <td>0</td>\n",
       "      <td>0</td>\n",
       "      <td>0</td>\n",
       "      <td>0</td>\n",
       "    </tr>\n",
       "    <tr>\n",
       "      <th>2</th>\n",
       "      <td>2032003</td>\n",
       "      <td>ASMA KHATUN   P</td>\n",
       "      <td>3</td>\n",
       "      <td>0</td>\n",
       "      <td>2</td>\n",
       "      <td>875</td>\n",
       "      <td>857</td>\n",
       "      <td>955</td>\n",
       "      <td>950</td>\n",
       "      <td>0</td>\n",
       "      <td>2</td>\n",
       "      <td>0</td>\n",
       "      <td>0</td>\n",
       "      <td>2</td>\n",
       "      <td>4</td>\n",
       "      <td>0</td>\n",
       "      <td>4</td>\n",
       "    </tr>\n",
       "    <tr>\n",
       "      <th>3</th>\n",
       "      <td>2032004</td>\n",
       "      <td>DINESH KUMAR   P</td>\n",
       "      <td>3</td>\n",
       "      <td>1</td>\n",
       "      <td>2</td>\n",
       "      <td>838</td>\n",
       "      <td>844</td>\n",
       "      <td>857</td>\n",
       "      <td>877</td>\n",
       "      <td>2</td>\n",
       "      <td>2</td>\n",
       "      <td>2</td>\n",
       "      <td>2</td>\n",
       "      <td>2</td>\n",
       "      <td>2</td>\n",
       "      <td>2</td>\n",
       "      <td>2</td>\n",
       "    </tr>\n",
       "    <tr>\n",
       "      <th>4</th>\n",
       "      <td>2032005</td>\n",
       "      <td>DIVYA   I</td>\n",
       "      <td>3</td>\n",
       "      <td>0</td>\n",
       "      <td>1</td>\n",
       "      <td>808</td>\n",
       "      <td>848</td>\n",
       "      <td>877</td>\n",
       "      <td>864</td>\n",
       "      <td>0</td>\n",
       "      <td>0</td>\n",
       "      <td>0</td>\n",
       "      <td>0</td>\n",
       "      <td>3</td>\n",
       "      <td>4</td>\n",
       "      <td>0</td>\n",
       "      <td>4</td>\n",
       "    </tr>\n",
       "  </tbody>\n",
       "</table>\n",
       "</div>"
      ],
      "text/plain": [
       "   Roll number              Name  Department  Gender  Age  sem4_marks   \\\n",
       "0      2032001  AJAY NARAYAN   P           3       1    1          869   \n",
       "1      2032002          AMAN   M           3       1    1          758   \n",
       "2      2032003   ASMA KHATUN   P           3       0    2          875   \n",
       "3      2032004  DINESH KUMAR   P           3       1    2          838   \n",
       "4      2032005         DIVYA   I           3       0    1          808   \n",
       "\n",
       "   sem3_marks   sem2_marks   sem1_marks   \\\n",
       "0          790          910          890   \n",
       "1          770          909          873   \n",
       "2          857          955          950   \n",
       "3          844          857          877   \n",
       "4          848          877          864   \n",
       "\n",
       "   Which device you use more frequently  Online mode is better then Offline  \\\n",
       "0                                     0                                   0   \n",
       "1                                     0                                   0   \n",
       "2                                     0                                   2   \n",
       "3                                     2                                   2   \n",
       "4                                     0                                   0   \n",
       "\n",
       "   Online makes you lazy  Use Electronic device for long time make tension  \\\n",
       "0                      0                                                 4   \n",
       "1                      0                                                 3   \n",
       "2                      0                                                 0   \n",
       "3                      2                                                 2   \n",
       "4                      0                                                 0   \n",
       "\n",
       "   Online mode is preferable for Scoring good marks in exam   \\\n",
       "0                                                  2           \n",
       "1                                                  0           \n",
       "2                                                  2           \n",
       "3                                                  2           \n",
       "4                                                  3           \n",
       "\n",
       "   Work is more in online than offline  \\\n",
       "0                                    1   \n",
       "1                                    0   \n",
       "2                                    4   \n",
       "3                                    2   \n",
       "4                                    4   \n",
       "\n",
       "   To motivate student offline mode is preferrable  \\\n",
       "0                                                0   \n",
       "1                                                0   \n",
       "2                                                0   \n",
       "3                                                2   \n",
       "4                                                0   \n",
       "\n",
       "   Exam in online has both advantages and dis advantages  \n",
       "0                                                  3      \n",
       "1                                                  0      \n",
       "2                                                  4      \n",
       "3                                                  2      \n",
       "4                                                  4      "
      ]
     },
     "execution_count": 44,
     "metadata": {},
     "output_type": "execute_result"
    }
   ],
   "source": [
    "df.head()"
   ]
  },
  {
   "cell_type": "code",
   "execution_count": 45,
   "metadata": {
    "colab": {
     "base_uri": "https://localhost:8080/",
     "height": 731
    },
    "id": "QWI8VTC7E7v5",
    "outputId": "eaabd911-b2fa-406f-f927-d93864b998ab"
   },
   "outputs": [
    {
     "data": {
      "text/html": [
       "<div>\n",
       "<style scoped>\n",
       "    .dataframe tbody tr th:only-of-type {\n",
       "        vertical-align: middle;\n",
       "    }\n",
       "\n",
       "    .dataframe tbody tr th {\n",
       "        vertical-align: top;\n",
       "    }\n",
       "\n",
       "    .dataframe thead th {\n",
       "        text-align: right;\n",
       "    }\n",
       "</style>\n",
       "<table border=\"1\" class=\"dataframe\">\n",
       "  <thead>\n",
       "    <tr style=\"text-align: right;\">\n",
       "      <th></th>\n",
       "      <th>Department</th>\n",
       "      <th>Gender</th>\n",
       "      <th>Age</th>\n",
       "      <th>sem4_marks</th>\n",
       "      <th>sem3_marks</th>\n",
       "      <th>sem2_marks</th>\n",
       "      <th>sem1_marks</th>\n",
       "      <th>Which device you use more frequently</th>\n",
       "      <th>Online mode is better then Offline</th>\n",
       "      <th>Online makes you lazy</th>\n",
       "      <th>Use Electronic device for long time make tension</th>\n",
       "      <th>Online mode is preferable for Scoring good marks in exam</th>\n",
       "      <th>Work is more in online than offline</th>\n",
       "      <th>To motivate student offline mode is preferrable</th>\n",
       "      <th>Exam in online has both advantages and dis advantages</th>\n",
       "    </tr>\n",
       "  </thead>\n",
       "  <tbody>\n",
       "    <tr>\n",
       "      <th>0</th>\n",
       "      <td>3</td>\n",
       "      <td>1</td>\n",
       "      <td>1</td>\n",
       "      <td>869</td>\n",
       "      <td>790</td>\n",
       "      <td>910</td>\n",
       "      <td>890</td>\n",
       "      <td>0</td>\n",
       "      <td>0</td>\n",
       "      <td>0</td>\n",
       "      <td>4</td>\n",
       "      <td>2</td>\n",
       "      <td>1</td>\n",
       "      <td>0</td>\n",
       "      <td>3</td>\n",
       "    </tr>\n",
       "    <tr>\n",
       "      <th>1</th>\n",
       "      <td>3</td>\n",
       "      <td>1</td>\n",
       "      <td>1</td>\n",
       "      <td>758</td>\n",
       "      <td>770</td>\n",
       "      <td>909</td>\n",
       "      <td>873</td>\n",
       "      <td>0</td>\n",
       "      <td>0</td>\n",
       "      <td>0</td>\n",
       "      <td>3</td>\n",
       "      <td>0</td>\n",
       "      <td>0</td>\n",
       "      <td>0</td>\n",
       "      <td>0</td>\n",
       "    </tr>\n",
       "    <tr>\n",
       "      <th>2</th>\n",
       "      <td>3</td>\n",
       "      <td>0</td>\n",
       "      <td>2</td>\n",
       "      <td>875</td>\n",
       "      <td>857</td>\n",
       "      <td>955</td>\n",
       "      <td>950</td>\n",
       "      <td>0</td>\n",
       "      <td>2</td>\n",
       "      <td>0</td>\n",
       "      <td>0</td>\n",
       "      <td>2</td>\n",
       "      <td>4</td>\n",
       "      <td>0</td>\n",
       "      <td>4</td>\n",
       "    </tr>\n",
       "    <tr>\n",
       "      <th>3</th>\n",
       "      <td>3</td>\n",
       "      <td>1</td>\n",
       "      <td>2</td>\n",
       "      <td>838</td>\n",
       "      <td>844</td>\n",
       "      <td>857</td>\n",
       "      <td>877</td>\n",
       "      <td>2</td>\n",
       "      <td>2</td>\n",
       "      <td>2</td>\n",
       "      <td>2</td>\n",
       "      <td>2</td>\n",
       "      <td>2</td>\n",
       "      <td>2</td>\n",
       "      <td>2</td>\n",
       "    </tr>\n",
       "    <tr>\n",
       "      <th>4</th>\n",
       "      <td>3</td>\n",
       "      <td>0</td>\n",
       "      <td>1</td>\n",
       "      <td>808</td>\n",
       "      <td>848</td>\n",
       "      <td>877</td>\n",
       "      <td>864</td>\n",
       "      <td>0</td>\n",
       "      <td>0</td>\n",
       "      <td>0</td>\n",
       "      <td>0</td>\n",
       "      <td>3</td>\n",
       "      <td>4</td>\n",
       "      <td>0</td>\n",
       "      <td>4</td>\n",
       "    </tr>\n",
       "    <tr>\n",
       "      <th>...</th>\n",
       "      <td>...</td>\n",
       "      <td>...</td>\n",
       "      <td>...</td>\n",
       "      <td>...</td>\n",
       "      <td>...</td>\n",
       "      <td>...</td>\n",
       "      <td>...</td>\n",
       "      <td>...</td>\n",
       "      <td>...</td>\n",
       "      <td>...</td>\n",
       "      <td>...</td>\n",
       "      <td>...</td>\n",
       "      <td>...</td>\n",
       "      <td>...</td>\n",
       "      <td>...</td>\n",
       "    </tr>\n",
       "    <tr>\n",
       "      <th>162</th>\n",
       "      <td>0</td>\n",
       "      <td>1</td>\n",
       "      <td>2</td>\n",
       "      <td>709</td>\n",
       "      <td>852</td>\n",
       "      <td>836</td>\n",
       "      <td>814</td>\n",
       "      <td>0</td>\n",
       "      <td>0</td>\n",
       "      <td>0</td>\n",
       "      <td>0</td>\n",
       "      <td>0</td>\n",
       "      <td>0</td>\n",
       "      <td>0</td>\n",
       "      <td>0</td>\n",
       "    </tr>\n",
       "    <tr>\n",
       "      <th>163</th>\n",
       "      <td>0</td>\n",
       "      <td>1</td>\n",
       "      <td>3</td>\n",
       "      <td>691</td>\n",
       "      <td>824</td>\n",
       "      <td>855</td>\n",
       "      <td>810</td>\n",
       "      <td>0</td>\n",
       "      <td>2</td>\n",
       "      <td>2</td>\n",
       "      <td>2</td>\n",
       "      <td>2</td>\n",
       "      <td>2</td>\n",
       "      <td>2</td>\n",
       "      <td>3</td>\n",
       "    </tr>\n",
       "    <tr>\n",
       "      <th>164</th>\n",
       "      <td>0</td>\n",
       "      <td>0</td>\n",
       "      <td>1</td>\n",
       "      <td>705</td>\n",
       "      <td>871</td>\n",
       "      <td>805</td>\n",
       "      <td>810</td>\n",
       "      <td>2</td>\n",
       "      <td>2</td>\n",
       "      <td>2</td>\n",
       "      <td>2</td>\n",
       "      <td>2</td>\n",
       "      <td>2</td>\n",
       "      <td>2</td>\n",
       "      <td>3</td>\n",
       "    </tr>\n",
       "    <tr>\n",
       "      <th>165</th>\n",
       "      <td>0</td>\n",
       "      <td>0</td>\n",
       "      <td>2</td>\n",
       "      <td>718</td>\n",
       "      <td>861</td>\n",
       "      <td>905</td>\n",
       "      <td>814</td>\n",
       "      <td>2</td>\n",
       "      <td>0</td>\n",
       "      <td>2</td>\n",
       "      <td>2</td>\n",
       "      <td>0</td>\n",
       "      <td>2</td>\n",
       "      <td>2</td>\n",
       "      <td>0</td>\n",
       "    </tr>\n",
       "    <tr>\n",
       "      <th>166</th>\n",
       "      <td>0</td>\n",
       "      <td>0</td>\n",
       "      <td>1</td>\n",
       "      <td>745</td>\n",
       "      <td>881</td>\n",
       "      <td>886</td>\n",
       "      <td>861</td>\n",
       "      <td>2</td>\n",
       "      <td>2</td>\n",
       "      <td>2</td>\n",
       "      <td>2</td>\n",
       "      <td>2</td>\n",
       "      <td>2</td>\n",
       "      <td>2</td>\n",
       "      <td>2</td>\n",
       "    </tr>\n",
       "  </tbody>\n",
       "</table>\n",
       "<p>167 rows × 15 columns</p>\n",
       "</div>"
      ],
      "text/plain": [
       "     Department  Gender  Age  sem4_marks   sem3_marks   sem2_marks   \\\n",
       "0             3       1    1          869          790          910   \n",
       "1             3       1    1          758          770          909   \n",
       "2             3       0    2          875          857          955   \n",
       "3             3       1    2          838          844          857   \n",
       "4             3       0    1          808          848          877   \n",
       "..          ...     ...  ...          ...          ...          ...   \n",
       "162           0       1    2          709          852          836   \n",
       "163           0       1    3          691          824          855   \n",
       "164           0       0    1          705          871          805   \n",
       "165           0       0    2          718          861          905   \n",
       "166           0       0    1          745          881          886   \n",
       "\n",
       "     sem1_marks   Which device you use more frequently  \\\n",
       "0            890                                     0   \n",
       "1            873                                     0   \n",
       "2            950                                     0   \n",
       "3            877                                     2   \n",
       "4            864                                     0   \n",
       "..           ...                                   ...   \n",
       "162          814                                     0   \n",
       "163          810                                     0   \n",
       "164          810                                     2   \n",
       "165          814                                     2   \n",
       "166          861                                     2   \n",
       "\n",
       "     Online mode is better then Offline  Online makes you lazy  \\\n",
       "0                                     0                      0   \n",
       "1                                     0                      0   \n",
       "2                                     2                      0   \n",
       "3                                     2                      2   \n",
       "4                                     0                      0   \n",
       "..                                  ...                    ...   \n",
       "162                                   0                      0   \n",
       "163                                   2                      2   \n",
       "164                                   2                      2   \n",
       "165                                   0                      2   \n",
       "166                                   2                      2   \n",
       "\n",
       "     Use Electronic device for long time make tension  \\\n",
       "0                                                   4   \n",
       "1                                                   3   \n",
       "2                                                   0   \n",
       "3                                                   2   \n",
       "4                                                   0   \n",
       "..                                                ...   \n",
       "162                                                 0   \n",
       "163                                                 2   \n",
       "164                                                 2   \n",
       "165                                                 2   \n",
       "166                                                 2   \n",
       "\n",
       "     Online mode is preferable for Scoring good marks in exam   \\\n",
       "0                                                    2           \n",
       "1                                                    0           \n",
       "2                                                    2           \n",
       "3                                                    2           \n",
       "4                                                    3           \n",
       "..                                                 ...           \n",
       "162                                                  0           \n",
       "163                                                  2           \n",
       "164                                                  2           \n",
       "165                                                  0           \n",
       "166                                                  2           \n",
       "\n",
       "     Work is more in online than offline  \\\n",
       "0                                      1   \n",
       "1                                      0   \n",
       "2                                      4   \n",
       "3                                      2   \n",
       "4                                      4   \n",
       "..                                   ...   \n",
       "162                                    0   \n",
       "163                                    2   \n",
       "164                                    2   \n",
       "165                                    2   \n",
       "166                                    2   \n",
       "\n",
       "     To motivate student offline mode is preferrable  \\\n",
       "0                                                  0   \n",
       "1                                                  0   \n",
       "2                                                  0   \n",
       "3                                                  2   \n",
       "4                                                  0   \n",
       "..                                               ...   \n",
       "162                                                0   \n",
       "163                                                2   \n",
       "164                                                2   \n",
       "165                                                2   \n",
       "166                                                2   \n",
       "\n",
       "     Exam in online has both advantages and dis advantages  \n",
       "0                                                    3      \n",
       "1                                                    0      \n",
       "2                                                    4      \n",
       "3                                                    2      \n",
       "4                                                    4      \n",
       "..                                                 ...      \n",
       "162                                                  0      \n",
       "163                                                  3      \n",
       "164                                                  3      \n",
       "165                                                  0      \n",
       "166                                                  2      \n",
       "\n",
       "[167 rows x 15 columns]"
      ]
     },
     "execution_count": 45,
     "metadata": {},
     "output_type": "execute_result"
    }
   ],
   "source": [
    "df.drop(columns=['Roll number','Name'], inplace=True)\n",
    "df"
   ]
  },
  {
   "cell_type": "markdown",
   "metadata": {
    "id": "sXUHKuN3n66i"
   },
   "source": [
    "### MODEL SELECTION AND FITTING"
   ]
  },
  {
   "cell_type": "code",
   "execution_count": 46,
   "metadata": {
    "id": "uzWzx65RnyZQ"
   },
   "outputs": [],
   "source": [
    "#Feature \n",
    "X = df.drop(['sem4_marks '], axis=1)\n",
    "#Target\n",
    "y = df['sem4_marks ']  "
   ]
  },
  {
   "cell_type": "code",
   "execution_count": 47,
   "metadata": {
    "colab": {
     "base_uri": "https://localhost:8080/"
    },
    "id": "etBGRgiuHWil",
    "outputId": "10ebc75d-9b9c-4b8a-80fc-bd930f1bec8a"
   },
   "outputs": [
    {
     "name": "stdout",
     "output_type": "stream",
     "text": [
      "[3, 1, 1, 770, 909, 873, 0, 0, 0, 3, 0, 0, 0, 0]\n"
     ]
    }
   ],
   "source": [
    "l=list(X.iloc[1])\n",
    "print(l)"
   ]
  },
  {
   "cell_type": "code",
   "execution_count": 48,
   "metadata": {
    "id": "Tgw7ivekoIml"
   },
   "outputs": [],
   "source": [
    "# Training the dataset\n",
    "from sklearn.model_selection import train_test_split\n",
    "x_train, x_test, y_train, y_test = train_test_split(X, y, test_size=0.3, random_state=42)"
   ]
  },
  {
   "cell_type": "markdown",
   "metadata": {
    "id": "y2Moau7xoLpw"
   },
   "source": [
    "LINEAR REGRESSION"
   ]
  },
  {
   "cell_type": "code",
   "execution_count": 49,
   "metadata": {
    "colab": {
     "base_uri": "https://localhost:8080/"
    },
    "id": "cSbLcZmnoaTR",
    "outputId": "1bc3fe89-1e97-4983-e7f9-81de41cbb886"
   },
   "outputs": [
    {
     "data": {
      "text/html": [
       "<style>#sk-container-id-1 {color: black;background-color: white;}#sk-container-id-1 pre{padding: 0;}#sk-container-id-1 div.sk-toggleable {background-color: white;}#sk-container-id-1 label.sk-toggleable__label {cursor: pointer;display: block;width: 100%;margin-bottom: 0;padding: 0.3em;box-sizing: border-box;text-align: center;}#sk-container-id-1 label.sk-toggleable__label-arrow:before {content: \"▸\";float: left;margin-right: 0.25em;color: #696969;}#sk-container-id-1 label.sk-toggleable__label-arrow:hover:before {color: black;}#sk-container-id-1 div.sk-estimator:hover label.sk-toggleable__label-arrow:before {color: black;}#sk-container-id-1 div.sk-toggleable__content {max-height: 0;max-width: 0;overflow: hidden;text-align: left;background-color: #f0f8ff;}#sk-container-id-1 div.sk-toggleable__content pre {margin: 0.2em;color: black;border-radius: 0.25em;background-color: #f0f8ff;}#sk-container-id-1 input.sk-toggleable__control:checked~div.sk-toggleable__content {max-height: 200px;max-width: 100%;overflow: auto;}#sk-container-id-1 input.sk-toggleable__control:checked~label.sk-toggleable__label-arrow:before {content: \"▾\";}#sk-container-id-1 div.sk-estimator input.sk-toggleable__control:checked~label.sk-toggleable__label {background-color: #d4ebff;}#sk-container-id-1 div.sk-label input.sk-toggleable__control:checked~label.sk-toggleable__label {background-color: #d4ebff;}#sk-container-id-1 input.sk-hidden--visually {border: 0;clip: rect(1px 1px 1px 1px);clip: rect(1px, 1px, 1px, 1px);height: 1px;margin: -1px;overflow: hidden;padding: 0;position: absolute;width: 1px;}#sk-container-id-1 div.sk-estimator {font-family: monospace;background-color: #f0f8ff;border: 1px dotted black;border-radius: 0.25em;box-sizing: border-box;margin-bottom: 0.5em;}#sk-container-id-1 div.sk-estimator:hover {background-color: #d4ebff;}#sk-container-id-1 div.sk-parallel-item::after {content: \"\";width: 100%;border-bottom: 1px solid gray;flex-grow: 1;}#sk-container-id-1 div.sk-label:hover label.sk-toggleable__label {background-color: #d4ebff;}#sk-container-id-1 div.sk-serial::before {content: \"\";position: absolute;border-left: 1px solid gray;box-sizing: border-box;top: 0;bottom: 0;left: 50%;z-index: 0;}#sk-container-id-1 div.sk-serial {display: flex;flex-direction: column;align-items: center;background-color: white;padding-right: 0.2em;padding-left: 0.2em;position: relative;}#sk-container-id-1 div.sk-item {position: relative;z-index: 1;}#sk-container-id-1 div.sk-parallel {display: flex;align-items: stretch;justify-content: center;background-color: white;position: relative;}#sk-container-id-1 div.sk-item::before, #sk-container-id-1 div.sk-parallel-item::before {content: \"\";position: absolute;border-left: 1px solid gray;box-sizing: border-box;top: 0;bottom: 0;left: 50%;z-index: -1;}#sk-container-id-1 div.sk-parallel-item {display: flex;flex-direction: column;z-index: 1;position: relative;background-color: white;}#sk-container-id-1 div.sk-parallel-item:first-child::after {align-self: flex-end;width: 50%;}#sk-container-id-1 div.sk-parallel-item:last-child::after {align-self: flex-start;width: 50%;}#sk-container-id-1 div.sk-parallel-item:only-child::after {width: 0;}#sk-container-id-1 div.sk-dashed-wrapped {border: 1px dashed gray;margin: 0 0.4em 0.5em 0.4em;box-sizing: border-box;padding-bottom: 0.4em;background-color: white;}#sk-container-id-1 div.sk-label label {font-family: monospace;font-weight: bold;display: inline-block;line-height: 1.2em;}#sk-container-id-1 div.sk-label-container {text-align: center;}#sk-container-id-1 div.sk-container {/* jupyter's `normalize.less` sets `[hidden] { display: none; }` but bootstrap.min.css set `[hidden] { display: none !important; }` so we also need the `!important` here to be able to override the default hidden behavior on the sphinx rendered scikit-learn.org. See: https://github.com/scikit-learn/scikit-learn/issues/21755 */display: inline-block !important;position: relative;}#sk-container-id-1 div.sk-text-repr-fallback {display: none;}</style><div id=\"sk-container-id-1\" class=\"sk-top-container\"><div class=\"sk-text-repr-fallback\"><pre>LinearRegression()</pre><b>In a Jupyter environment, please rerun this cell to show the HTML representation or trust the notebook. <br />On GitHub, the HTML representation is unable to render, please try loading this page with nbviewer.org.</b></div><div class=\"sk-container\" hidden><div class=\"sk-item\"><div class=\"sk-estimator sk-toggleable\"><input class=\"sk-toggleable__control sk-hidden--visually\" id=\"sk-estimator-id-1\" type=\"checkbox\" checked><label for=\"sk-estimator-id-1\" class=\"sk-toggleable__label sk-toggleable__label-arrow\">LinearRegression</label><div class=\"sk-toggleable__content\"><pre>LinearRegression()</pre></div></div></div></div></div>"
      ],
      "text/plain": [
       "LinearRegression()"
      ]
     },
     "execution_count": 49,
     "metadata": {},
     "output_type": "execute_result"
    }
   ],
   "source": [
    "# fitting the model(LINEAR REGRESSION)\n",
    "from sklearn.linear_model import LinearRegression\n",
    "mlr = LinearRegression()  \n",
    "mlr.fit(x_train, y_train)"
   ]
  },
  {
   "cell_type": "code",
   "execution_count": 50,
   "metadata": {
    "colab": {
     "base_uri": "https://localhost:8080/"
    },
    "id": "HT2ND7CAohac",
    "outputId": "260e01a0-0b6a-4bf1-f9e7-91f950235bbb"
   },
   "outputs": [
    {
     "name": "stdout",
     "output_type": "stream",
     "text": [
      "Prediction for test set: [795.90595488 805.30593328 838.03875812 836.84962733 849.6978247\n",
      " 778.98074231 812.40415364 810.23652107 676.76973738 639.14578874\n",
      " 805.84244684 818.92261836 813.88853165 708.59296124 859.03387681\n",
      " 754.44846662 791.95435756 829.47661679 756.52537081 796.72493102\n",
      " 806.21279684 787.40004512 901.61060598 750.9785899  881.32554856\n",
      " 850.21276903 884.79223844 852.67263174 687.41072484 820.34756453\n",
      " 846.55269004 809.63053483 780.25011706 698.78957389 754.65680199\n",
      " 872.95907816 775.19183925 833.12190551 856.66520334 782.45953691\n",
      " 770.88570895 798.53378554 842.72110912 835.13058193 795.62371332\n",
      " 918.85463139 797.69630087 819.96144569 855.51091547 743.32707604\n",
      " 780.0907683 ]\n"
     ]
    }
   ],
   "source": [
    "#Prediction of test set \n",
    "y_pred_mlr= mlr.predict(x_test)\n",
    "#Predicted values\n",
    "print(\"Prediction for test set: {}\".format(y_pred_mlr))"
   ]
  },
  {
   "cell_type": "code",
   "execution_count": 51,
   "metadata": {
    "colab": {
     "base_uri": "https://localhost:8080/"
    },
    "id": "pp6FfHAbouv6",
    "outputId": "5230aa97-0a94-44d8-db83-bea8df45934e"
   },
   "outputs": [
    {
     "name": "stdout",
     "output_type": "stream",
     "text": [
      "R squared: 62.67\n",
      "Mean Absolute Error: 35.60660366792341\n",
      "Mean Square Error: 1910.622243841306\n",
      "Root Mean Square Error: 43.71066510408308\n"
     ]
    }
   ],
   "source": [
    "#Actual value and the predicted value\n",
    "mlr_diff = pd.DataFrame({'Actual value': y_test, 'Predicted value': y_pred_mlr})\n",
    "#Model Evaluation\n",
    "from sklearn import metrics\n",
    "meanAbErr = metrics.mean_absolute_error(y_test, y_pred_mlr)\n",
    "meanSqErr = metrics.mean_squared_error(y_test, y_pred_mlr)\n",
    "# R^2 Value\n",
    "rootMeanSqErr = np.sqrt(metrics.mean_squared_error(y_test, y_pred_mlr))\n",
    "Acc=mlr.score(X,y)*100\n",
    "print('R squared: {:.2f}'.format(mlr.score(X,y)*100))\n",
    "print('Mean Absolute Error:', meanAbErr)\n",
    "print('Mean Square Error:', meanSqErr)\n",
    "print('Root Mean Square Error:', rootMeanSqErr)"
   ]
  },
  {
   "cell_type": "code",
   "execution_count": 52,
   "metadata": {
    "colab": {
     "base_uri": "https://localhost:8080/"
    },
    "id": "IzjcJFkSo5BT",
    "outputId": "7d3913fa-553f-4662-8319-ae693e3441d9"
   },
   "outputs": [
    {
     "name": "stdout",
     "output_type": "stream",
     "text": [
      "Accuracy: 62.67 %.\n"
     ]
    }
   ],
   "source": [
    "print('Accuracy:', round(Acc, 2), '%.')"
   ]
  },
  {
   "cell_type": "code",
   "execution_count": 53,
   "metadata": {
    "colab": {
     "base_uri": "https://localhost:8080/"
    },
    "id": "xaMoH__99O8E",
    "outputId": "25f69940-007c-46f7-f72c-cf3c133f0d67"
   },
   "outputs": [
    {
     "name": "stdout",
     "output_type": "stream",
     "text": [
      "Accuracy: 73.02 %.\n"
     ]
    }
   ],
   "source": [
    "# Gradient Boosting Regressor \n",
    "from sklearn.ensemble import GradientBoostingRegressor\n",
    "from sklearn.model_selection import train_test_split\n",
    "X_train, X_test, y_train, y_test = train_test_split(X, y, test_size = 0.3, random_state = 42)\n",
    "reg = GradientBoostingRegressor(random_state=0)\n",
    "reg.fit(X_train, y_train)\n",
    "reg.predict(X_test[1:2])\n",
    "ac=reg.score(X_test, y_test)\n",
    "acc=ac*100\n",
    "print('Accuracy:', round(acc, 2), '%.')"
   ]
  },
  {
   "cell_type": "code",
   "execution_count": 54,
   "metadata": {
    "colab": {
     "base_uri": "https://localhost:8080/"
    },
    "id": "SEFVt5bcE7v8",
    "outputId": "3d405b35-a583-4c0f-e134-e5062d5c354f"
   },
   "outputs": [
    {
     "name": "stdout",
     "output_type": "stream",
     "text": [
      "Accuracy: 69.3 %.\n"
     ]
    }
   ],
   "source": [
    "# Extra Trees Regressor\n",
    "from sklearn.model_selection import train_test_split\n",
    "from sklearn.ensemble import ExtraTreesRegressor\n",
    "X_train, X_test, y_train, y_test = train_test_split(X, y, test_size = 0.3, random_state = 42)\n",
    "reg = ExtraTreesRegressor(n_estimators=100, random_state=0).fit(X_train, y_train)\n",
    "ac=reg.score(X_test, y_test)\n",
    "acc=ac*100\n",
    "print('Accuracy:', round(acc, 2), '%.')"
   ]
  },
  {
   "cell_type": "code",
   "execution_count": 55,
   "metadata": {
    "id": "1odNz9TcE7v8"
   },
   "outputs": [],
   "source": [
    "# Random Forest Regressor Model\n",
    "from sklearn.model_selection import train_test_split \n",
    "train_features, test_features, train_labels, test_labels = train_test_split(X, y, test_size = 0.25, random_state = 42)\n",
    "\n",
    "from sklearn.ensemble import RandomForestRegressor\n",
    "rf = RandomForestRegressor(n_estimators = 1000, random_state = 42)\n",
    "rf.fit(train_features, train_labels);"
   ]
  },
  {
   "cell_type": "code",
   "execution_count": 56,
   "metadata": {
    "colab": {
     "base_uri": "https://localhost:8080/"
    },
    "id": "i0jqlMQQpkjr",
    "outputId": "3e93722c-929f-4ccf-9746-0c1b1feb9a8b"
   },
   "outputs": [
    {
     "name": "stdout",
     "output_type": "stream",
     "text": [
      "Mean Absolute Error: 29.02\n"
     ]
    }
   ],
   "source": [
    "predictions = rf.predict(test_features)\n",
    "errors = abs(predictions - test_labels)\n",
    "print('Mean Absolute Error:', round(np.mean(errors), 2))"
   ]
  },
  {
   "cell_type": "code",
   "execution_count": 57,
   "metadata": {
    "colab": {
     "base_uri": "https://localhost:8080/"
    },
    "id": "KZSWW0hkpnFm",
    "outputId": "114f9e78-678e-4738-cc7a-4f45f02c5d74"
   },
   "outputs": [
    {
     "name": "stdout",
     "output_type": "stream",
     "text": [
      "Accuracy: 96.33 %.\n"
     ]
    }
   ],
   "source": [
    "mape = 100 * (errors / test_labels)\n",
    "accuracy = 100 - np.mean(mape)\n",
    "print('Accuracy:', round(accuracy, 2), '%.')"
   ]
  },
  {
   "cell_type": "markdown",
   "metadata": {
    "id": "0UO_i6rYFnpE"
   },
   "source": [
    "### OUT OF ALL, WE GOT RANDOM FOREST REGRESSOR HAS MAXIMUM ACCURACY OF 96.33%."
   ]
  }
 ],
 "metadata": {
  "colab": {
   "collapsed_sections": [],
   "name": "Student_Performance-PICKLE.ipynb",
   "provenance": []
  },
  "kernelspec": {
   "display_name": "Python 3 (ipykernel)",
   "language": "python",
   "name": "python3"
  },
  "language_info": {
   "codemirror_mode": {
    "name": "ipython",
    "version": 3
   },
   "file_extension": ".py",
   "mimetype": "text/x-python",
   "name": "python",
   "nbconvert_exporter": "python",
   "pygments_lexer": "ipython3",
   "version": "3.9.2"
  }
 },
 "nbformat": 4,
 "nbformat_minor": 1
}
